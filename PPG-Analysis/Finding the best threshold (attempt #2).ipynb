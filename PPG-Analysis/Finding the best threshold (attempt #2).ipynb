{
 "cells": [
  {
   "cell_type": "code",
   "execution_count": 13,
   "metadata": {
    "collapsed": true
   },
   "outputs": [],
   "source": [
    "import cv2\n",
    "import numpy as np\n",
    "import pandas as pd"
   ]
  },
  {
   "cell_type": "code",
   "execution_count": 14,
   "metadata": {
    "collapsed": true
   },
   "outputs": [],
   "source": [
    "videoList = [\"VID_20150123_172926_F.mp4.txt\",\n",
    "    \"VID_20150123_173259_Q.mp4.txt\",\n",
    "    \"VID_20150123_173329_F.mp4.txt\",\n",
    "    \"VID_20150123_173358_Q.mp4.txt\",\n",
    "    \"VID_20150123_173427_F.mp4.txt\",\n",
    "    \"VID_20150123_173457_Q.mp4.txt\",\n",
    "    \"VID_20150123_173556_Q.mp4.txt\",\n",
    "    \"VID_20150123_173629_F.mp4.txt\",\n",
    "    \"VID_20150123_173700_Q.mp4.txt\",\n",
    "    \"VID_20150123_173757_Q.mp4.txt\",\n",
    "    \"VID_20150123_173028_F.mp4.txt\",\n",
    "    \"VID_20150123_172857_Q.mp4.txt\"]\n",
    "fps = 30.323427803"
   ]
  },
  {
   "cell_type": "code",
   "execution_count": 15,
   "metadata": {
    "collapsed": true
   },
   "outputs": [],
   "source": [
    "def readFromFile(fileName):\n",
    "    l =np.loadtxt(fileName)\n",
    "    return l[0], l[1], l[2]"
   ]
  },
  {
   "cell_type": "code",
   "execution_count": 16,
   "metadata": {
    "collapsed": true
   },
   "outputs": [],
   "source": [
    "#will return a list of the indexes of the peaks\n",
    "def peakList(colorList, frameThreshold):\n",
    "    peaks = []\n",
    "    for i in range(1,len(colorList)-1):\n",
    "        #check to see if greater than immediate surroundings\n",
    "        if colorList[i-1] <  colorList[i]  and colorList[i+1] <  colorList[i]:\n",
    "            #if so, check every other frame in the threshold\n",
    "            for j in range(2, frameThreshold):\n",
    "                #check everything in threshold before - will break if not a peak\n",
    "                if i-j>0:\n",
    "                    if colorList[i]<colorList[i-j]:\n",
    "                        break\n",
    "                #check everything in threshold after\n",
    "                if i+j<len(colorList):\n",
    "                    if colorList[i]<colorList[i+j]:\n",
    "                        break\n",
    "            else:\n",
    "                peaks.append(i)\n",
    "    return peaks"
   ]
  },
  {
   "cell_type": "code",
   "execution_count": 17,
   "metadata": {
    "collapsed": true
   },
   "outputs": [],
   "source": [
    "def rrList(peakIndexes):\n",
    "    rrlist = [];\n",
    "    for i in range(1,len(peakIndexes)):\n",
    "        rr = (peakIndexes[i]-peakIndexes[i-1])*1/fps\n",
    "        rrlist.append(rr)\n",
    "    return rrlist"
   ]
  },
  {
   "cell_type": "code",
   "execution_count": 18,
   "metadata": {
    "collapsed": true
   },
   "outputs": [],
   "source": [
    "def timeList(rrList):\n",
    "    times = [rrList[0]]\n",
    "    for i in range(1,len(rrList)):\n",
    "        times.append(times[i-1]+rrList[i])\n",
    "    return times"
   ]
  },
  {
   "cell_type": "code",
   "execution_count": 19,
   "metadata": {
    "collapsed": true
   },
   "outputs": [],
   "source": [
    "thresholds = range(1,31)"
   ]
  },
  {
   "cell_type": "code",
   "execution_count": 20,
   "metadata": {
    "collapsed": false
   },
   "outputs": [],
   "source": [
    "def getError(rrList):\n",
    "    errors = 0\n",
    "    for rr in rrList:\n",
    "        #heart beat ranges from 50 to 110 pulses per minute\n",
    "            if rr<.54 or rr>1.2:\n",
    "                errors = errors+1\n",
    "    return errors"
   ]
  },
  {
   "cell_type": "code",
   "execution_count": 51,
   "metadata": {
    "collapsed": false
   },
   "outputs": [
    {
     "name": "stdout",
     "output_type": "stream",
     "text": [
      "[0.5384814726812147, 0.5384814726812147, 0.4292701729295933, 0.3545492867461662, 0.26483123905694894, 0.16655167748917749, 0.13221023895914544, 0.11455477765961636, 0.09607038614406686, 0.08923148036899087, 0.08635581976478175, 0.07812962583407347, 0.08834204413472707, 0.086325915102469, 0.11137057387057388, 0.10552842219508886, 0.10781016822683488, 0.13175363376512803, 0.1579288046282372, 0.20315168016317445, 0.23691236392385817, 0.24662774432889378, 0.2796965273976768, 0.30536474487623916, 0.31316998831678994, 0.33713160615459464, 0.38089018916766815, 0.4457586312182041, 0.6249979694606888, 0.7438971136887803]\n"
     ]
    }
   ],
   "source": [
    "#goes through all vids, constructs matrix with vid,colors,errors\n",
    "allErrors = []\n",
    "for eachVideo in range(0,len(videoList)):\n",
    "    allErrors.append([[],[],[]])\n",
    "    \n",
    "        \n",
    "for nameIndex in range(0,len(videoList)):\n",
    "    #for every vid, get colors\n",
    "    r,g,b = readFromFile(videoList[nameIndex])\n",
    "    colors = [r,g,b]\n",
    "    i=0;\n",
    "    for c in range(0,len(colors)):\n",
    "        #list of errors for this paricular color and video\n",
    "        errors = [0]*len(thresholds)\n",
    "        for i in range(0,len(thresholds)):\n",
    "        #for every vid, test each threshold for errors\n",
    "        #add errors to approprate place on redErrors list\n",
    "            rr = rrList(peakList(colors[c],i+1))\n",
    "            if len(rr)>0:\n",
    "                #relative error\n",
    "                errors[i] = errors[i]+getError(rr)/(len(rr)*1.0)\n",
    "            if len(rr)==0:\n",
    "                #no rr intervals detected, which is obviously wrong, so 100% error\n",
    "                errors[i] = errors[i]+1\n",
    "        allErrors[nameIndex][c]=errors\n",
    "#get average number of errors per video\n",
    "reds= [0]*30\n",
    "greens= [0]*30\n",
    "blues = [0]*30\n",
    "for a in range(0,len(allErrors)):\n",
    "    for e in range(0,len(allErrors[a][0])):\n",
    "            reds[e] = reds[e]+allErrors[a][0][e]\n",
    "            greens[e] = greens[e]+allErrors[a][1][e]\n",
    "            blues[e]= blues[e]+allErrors[a][2][e]\n",
    "\n",
    "for i in range(0,len(reds)):\n",
    "    reds[i] = reds[i]/12.0\n",
    "    greens[i] = greens[i]/12.0\n",
    "    blues[i] = blues[i]/12.0\n"
   ]
  },
  {
   "cell_type": "code",
   "execution_count": 52,
   "metadata": {
    "collapsed": false
   },
   "outputs": [
    {
     "data": {
      "text/plain": [
       "<matplotlib.axes._subplots.AxesSubplot at 0x7f23cce655d0>"
      ]
     },
     "execution_count": 52,
     "metadata": {},
     "output_type": "execute_result"
    },
    {
     "data": {
      "image/png": "[encoded data removed]",
      "text/plain": [
       "<matplotlib.figure.Figure at 0x7f23cce57e90>"
      ]
     },
     "metadata": {},
     "output_type": "display_data"
    }
   ],
   "source": [
    "redSeries = pd.Series(reds, index=thresholds)\n",
    "%matplotlib inline\n",
    "redSeries.plot(title=\"Average Error vs Threshold for Red\")"
   ]
  },
  {
   "cell_type": "code",
   "execution_count": 53,
   "metadata": {
    "collapsed": false
   },
   "outputs": [
    {
     "data": {
      "text/plain": [
       "<matplotlib.axes._subplots.AxesSubplot at 0x7f23cce2f4d0>"
      ]
     },
     "execution_count": 53,
     "metadata": {},
     "output_type": "execute_result"
    },
    {
     "data": {
      "image/png": "[encoded data removed]",
      "text/plain": [
       "<matplotlib.figure.Figure at 0x7f23ce5b7d50>"
      ]
     },
     "metadata": {},
     "output_type": "display_data"
    }
   ],
   "source": [
    "greenSeries = pd.Series(greens, index=thresholds)\n",
    "%matplotlib inline\n",
    "greenSeries.plot(title=\"Average Error vs Threshold for Green\")"
   ]
  },
  {
   "cell_type": "code",
   "execution_count": 54,
   "metadata": {
    "collapsed": false
   },
   "outputs": [
    {
     "data": {
      "text/plain": [
       "<matplotlib.axes._subplots.AxesSubplot at 0x7f23ccd29a90>"
      ]
     },
     "execution_count": 54,
     "metadata": {},
     "output_type": "execute_result"
    },
    {
     "data": {
      "image/png": "[encoded data removed]",
      "text/plain": [
       "<matplotlib.figure.Figure at 0x7f23ccdb2c50>"
      ]
     },
     "metadata": {},
     "output_type": "display_data"
    }
   ],
   "source": [
    "blueSeries = pd.Series(blues, index=thresholds)\n",
    "%matplotlib inline\n",
    "blueSeries.plot(title=\"Average Error vs Threshold for Blue\")"
   ]
  },
  {
   "cell_type": "code",
   "execution_count": 56,
   "metadata": {
    "collapsed": false
   },
   "outputs": [
    {
     "data": {
      "text/plain": [
       "<matplotlib.axes._subplots.AxesSubplot at 0x7f23cf15e110>"
      ]
     },
     "execution_count": 56,
     "metadata": {},
     "output_type": "execute_result"
    },
    {
     "data": {
      "image/png": "[encoded data removed]",
      "text/plain": [
       "<matplotlib.figure.Figure at 0x7f23ccdc3150>"
      ]
     },
     "metadata": {},
     "output_type": "display_data"
    }
   ],
   "source": [
    "thresholdTimes = []\n",
    "\n",
    "for i in thresholds:\n",
    "    thresholdTimes.append(i*1/fps)\n",
    "testSeries = pd.Series(reds, index=thresholdTimes)\n",
    "%matplotlib inline\n",
    "testSeries.plot(title=\"Average Error vs Threshold in seconds for Red\")"
   ]
  },
  {
   "cell_type": "code",
   "execution_count": null,
   "metadata": {
    "collapsed": false
   },
   "outputs": [],
   "source": []
  },
  {
   "cell_type": "code",
   "execution_count": null,
   "metadata": {
    "collapsed": false
   },
   "outputs": [],
   "source": []
  }
 ],
 "metadata": {
  "kernelspec": {
   "display_name": "Python 2",
   "language": "python",
   "name": "python2"
  },
  "language_info": {
   "codemirror_mode": {
    "name": "ipython",
    "version": 2
   },
   "file_extension": ".py",
   "mimetype": "text/x-python",
   "name": "python",
   "nbconvert_exporter": "python",
   "pygments_lexer": "ipython2",
   "version": "2.7.10"
  }
 },
 "nbformat": 4,
 "nbformat_minor": 0
}
