{
 "cells": [
  {
   "cell_type": "code",
   "execution_count": 77,
   "metadata": {
    "collapsed": true
   },
   "outputs": [],
   "source": [
    "import cv2\n",
    "import numpy as np\n",
    "import pandas as pd\n",
    "import matplotlib.pyplot as plt\n",
    "import numpy"
   ]
  },
  {
   "cell_type": "code",
   "execution_count": 78,
   "metadata": {
    "collapsed": true
   },
   "outputs": [],
   "source": [
    "videoList = [\"VID_20150123_172926_F.mp4.txt\",\n",
    "    \"VID_20150123_173259_Q.mp4.txt\",\n",
    "    \"VID_20150123_173329_F.mp4.txt\",\n",
    "    \"VID_20150123_173358_Q.mp4.txt\",\n",
    "    \"VID_20150123_173427_F.mp4.txt\",\n",
    "    \"VID_20150123_173457_Q.mp4.txt\",\n",
    "    \"VID_20150123_173556_Q.mp4.txt\",\n",
    "    \"VID_20150123_173629_F.mp4.txt\",\n",
    "    \"VID_20150123_173700_Q.mp4.txt\",\n",
    "    \"VID_20150123_173757_Q.mp4.txt\",\n",
    "    \"VID_20150123_173028_F.mp4.txt\",\n",
    "    \"VID_20150123_172857_Q.mp4.txt\"]\n",
    "fps = 30.323427803"
   ]
  },
  {
   "cell_type": "code",
   "execution_count": 79,
   "metadata": {
    "collapsed": true
   },
   "outputs": [],
   "source": [
    "def readFromFile(fileName):\n",
    "    l =np.loadtxt(fileName)\n",
    "    return l[0], l[1], l[2]"
   ]
  },
  {
   "cell_type": "code",
   "execution_count": 1,
   "metadata": {
    "collapsed": true
   },
   "outputs": [],
   "source": [
    "#will return a list of the indexes of the peaks\n",
    "def peakList(colorList, frameThreshold):\n",
    "    peaks = []\n",
    "    for i in range(1,len(colorList)-1):\n",
    "        #check to see if greater than immediate surroundings\n",
    "        if colorList[i-1] <  colorList[i]  and colorList[i+1] <  colorList[i]:\n",
    "            #if so, check every other frame in the threshold\n",
    "            for j in range(2, frameThreshold+1):\n",
    "                #check everything in threshold before - will break if not a peak\n",
    "                if i-j>0:\n",
    "                    if colorList[i]<colorList[i-j]:\n",
    "                        break\n",
    "                #check everything in threshold after\n",
    "                if i+j<len(colorList):\n",
    "                    if colorList[i]<colorList[i+j]:\n",
    "                        break\n",
    "            else:\n",
    "                peaks.append(i)\n",
    "    return peaks"
   ]
  },
  {
   "cell_type": "code",
   "execution_count": 14,
   "metadata": {
    "collapsed": false
   },
   "outputs": [],
   "source": [
    "sig1 = []\n",
    "sig2 = []\n",
    "signal1 = open(\"FullSignal1\")\n",
    "signal2 = open(\"FullSignal2\")\n",
    "filecontents = signal1.readlines()\n",
    "for line in filecontents:\n",
    "    num = line.strip('\\n')\n",
    "    sig1.append((int)(num))\n",
    "    \n",
    "filecontents = signal2.readlines()\n",
    "for line in filecontents:\n",
    "    num = line.strip('\\n')\n",
    "    sig2.append((int)(num))"
   ]
  },
  {
   "cell_type": "code",
   "execution_count": null,
   "metadata": {
    "collapsed": true
   },
   "outputs": [],
   "source": [
    "def getDifference(segment,fullSignal):\n",
    "    "
   ]
  }
 ],
 "metadata": {
  "kernelspec": {
   "display_name": "Python 2",
   "language": "python",
   "name": "python2"
  },
  "language_info": {
   "codemirror_mode": {
    "name": "ipython",
    "version": 2
   },
   "file_extension": ".py",
   "mimetype": "text/x-python",
   "name": "python",
   "nbconvert_exporter": "python",
   "pygments_lexer": "ipython2",
   "version": "2.7.10"
  }
 },
 "nbformat": 4,
 "nbformat_minor": 0
}
