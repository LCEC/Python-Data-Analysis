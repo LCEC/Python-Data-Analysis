{
 "cells": [
  {
   "cell_type": "code",
   "execution_count": 146,
   "metadata": {
    "collapsed": true
   },
   "outputs": [],
   "source": [
    "import cv2\n",
    "import numpy as np\n",
    "import pandas as pd"
   ]
  },
  {
   "cell_type": "code",
   "execution_count": 147,
   "metadata": {
    "collapsed": true
   },
   "outputs": [],
   "source": [
    "videoList = [\"VID_20150123_172926_F.mp4.txt\",\n",
    "    \"VID_20150123_173259_Q.mp4.txt\",\n",
    "    \"VID_20150123_173329_F.mp4.txt\",\n",
    "    \"VID_20150123_173358_Q.mp4.txt\",\n",
    "    \"VID_20150123_173427_F.mp4.txt\",\n",
    "    \"VID_20150123_173457_Q.mp4.txt\",\n",
    "    \"VID_20150123_173556_Q.mp4.txt\",\n",
    "    \"VID_20150123_173629_F.mp4.txt\",\n",
    "    \"VID_20150123_173700_Q.mp4.txt\",\n",
    "    \"VID_20150123_173757_Q.mp4.txt\",\n",
    "    \"VID_20150123_173028_F.mp4.txt\",\n",
    "    \"VID_20150123_172857_Q.mp4.txt\"]\n",
    "fps = 30.323427803"
   ]
  },
  {
   "cell_type": "code",
   "execution_count": 148,
   "metadata": {
    "collapsed": true
   },
   "outputs": [],
   "source": [
    "def readFromFile(fileName):\n",
    "    l =np.loadtxt(fileName)\n",
    "    return l[0], l[1], l[2]"
   ]
  },
  {
   "cell_type": "code",
   "execution_count": 149,
   "metadata": {
    "collapsed": true
   },
   "outputs": [],
   "source": [
    "#will return a list of the indexes of the peaks\n",
    "def peakList(colorList, frameThreshold):\n",
    "    peaks = []\n",
    "    for i in range(1,len(colorList)-1):\n",
    "        #check to see if greater than immediate surroundings\n",
    "        if colorList[i-1] <  colorList[i]  and colorList[i+1] <  colorList[i]:\n",
    "            #if so, check every other frame in the threshold\n",
    "            for j in range(2, frameThreshold):\n",
    "                #check everything in threshold before - will break if not a peak\n",
    "                if i-j>0:\n",
    "                    if colorList[i]<colorList[i-j]:\n",
    "                        break\n",
    "                #check everything in threshold after\n",
    "                if i+j<len(colorList):\n",
    "                    if colorList[i]<colorList[i+j]:\n",
    "                        break\n",
    "            else:\n",
    "                peaks.append(i)\n",
    "    return peaks"
   ]
  },
  {
   "cell_type": "code",
   "execution_count": 150,
   "metadata": {
    "collapsed": true
   },
   "outputs": [],
   "source": [
    "def rrList(peakIndexes):\n",
    "    rrlist = [];\n",
    "    for i in range(1,len(peakIndexes)):\n",
    "        rr = (peakIndexes[i]-peakIndexes[i-1])*1/fps\n",
    "        rrlist.append(rr)\n",
    "    return rrlist"
   ]
  },
  {
   "cell_type": "code",
   "execution_count": 151,
   "metadata": {
    "collapsed": true
   },
   "outputs": [],
   "source": [
    "def timeList(rrList):\n",
    "    times = [rrList[0]]\n",
    "    for i in range(1,len(rrList)):\n",
    "        times.append(times[i-1]+rrList[i])\n",
    "    return times"
   ]
  },
  {
   "cell_type": "code",
   "execution_count": 152,
   "metadata": {
    "collapsed": true
   },
   "outputs": [],
   "source": [
    "thresholds = range(1,31)"
   ]
  },
  {
   "cell_type": "code",
   "execution_count": 153,
   "metadata": {
    "collapsed": false
   },
   "outputs": [],
   "source": [
    "def getError(rrList):\n",
    "    errors = 0\n",
    "    for rr in rrList:\n",
    "            if rr<.8 or rr>1.2:\n",
    "                errors = errors+1\n",
    "    return errors"
   ]
  },
  {
   "cell_type": "code",
   "execution_count": 154,
   "metadata": {
    "collapsed": false
   },
   "outputs": [
    {
     "data": {
      "text/plain": [
       "[66.91666666666667,\n",
       " 66.91666666666667,\n",
       " 43.083333333333336,\n",
       " 30.333333333333332,\n",
       " 19.75,\n",
       " 14.25,\n",
       " 11.5,\n",
       " 10.833333333333334,\n",
       " 10.416666666666666,\n",
       " 10.416666666666666,\n",
       " 9.583333333333334,\n",
       " 9.416666666666666,\n",
       " 9.416666666666666,\n",
       " 9.0,\n",
       " 8.833333333333334,\n",
       " 8.583333333333334,\n",
       " 8.333333333333334,\n",
       " 6.916666666666667,\n",
       " 5.416666666666667,\n",
       " 3.5,\n",
       " 2.9166666666666665,\n",
       " 2.5833333333333335,\n",
       " 2.5833333333333335,\n",
       " 2.75,\n",
       " 2.9166666666666665,\n",
       " 3.4166666666666665,\n",
       " 4.25,\n",
       " 5.583333333333333,\n",
       " 6.583333333333333,\n",
       " 6.833333333333333]"
      ]
     },
     "execution_count": 154,
     "metadata": {},
     "output_type": "execute_result"
    }
   ],
   "source": [
    "# for red...\n",
    "#this list will hold the total number of errors across all videos, with the total number of errors for each threshold\n",
    "#being stored at index = threshold-1\n",
    "#for example, redErrors[0] will hold the total number of errors across all videos when threshold=1\n",
    "redErrors = [0]*len(thresholds)\n",
    "for nameIndex in range(0,len(videoList)):\n",
    "    #for every vid, get red\n",
    "    r,g,b = readFromFile(videoList[nameIndex])\n",
    "    i=0;\n",
    "    while(i <len(thresholds)):\n",
    "    #for every vid, test each threshold for errors\n",
    "    #add errors to approprate place on redErrors list\n",
    "        rrR = rrList(peakList(r,i+1))\n",
    "        redErrors[i] = redErrors[i]+getError(rrR)\n",
    "        i= i+1\n",
    "\n",
    "#get average number of errors per video\n",
    "for i in range(0,len(redErrors)):\n",
    "    redErrors[i] = redErrors[i]/12.0\n",
    "\n",
    "redErrors\n",
    "   "
   ]
  },
  {
   "cell_type": "code",
   "execution_count": 155,
   "metadata": {
    "collapsed": false
   },
   "outputs": [
    {
     "data": {
      "text/plain": [
       "[62.25,\n",
       " 62.25,\n",
       " 44.583333333333336,\n",
       " 33.416666666666664,\n",
       " 23.5,\n",
       " 16.416666666666668,\n",
       " 14.0,\n",
       " 12.5,\n",
       " 11.416666666666666,\n",
       " 10.666666666666666,\n",
       " 9.916666666666666,\n",
       " 9.25,\n",
       " 8.916666666666666,\n",
       " 8.75,\n",
       " 8.166666666666666,\n",
       " 7.916666666666667,\n",
       " 7.75,\n",
       " 6.666666666666667,\n",
       " 4.75,\n",
       " 2.9166666666666665,\n",
       " 2.3333333333333335,\n",
       " 2.1666666666666665,\n",
       " 1.8333333333333333,\n",
       " 2.1666666666666665,\n",
       " 2.3333333333333335,\n",
       " 2.75,\n",
       " 3.5,\n",
       " 4.583333333333333,\n",
       " 6.416666666666667,\n",
       " 6.666666666666667]"
      ]
     },
     "execution_count": 155,
     "metadata": {},
     "output_type": "execute_result"
    }
   ],
   "source": [
    "#for green\n",
    "greenErrors = [0]*len(thresholds)\n",
    "for nameIndex in range(0,len(videoList)):\n",
    "    #for every vid, get green\n",
    "    r,g,b = readFromFile(videoList[nameIndex])\n",
    "    i=0;\n",
    "    while(i <len(thresholds)):\n",
    "    #for every vid, test each threshold for errors\n",
    "    #add errors to approprate place on greenErrors list\n",
    "        rrG = rrList(peakList(g,i+1))\n",
    "        greenErrors[i] = greenErrors[i]+getError(rrG)\n",
    "        i= i+1\n",
    "\n",
    "#get average number of errors per video\n",
    "for i in range(0,len(greenErrors)):\n",
    "    greenErrors[i] = greenErrors[i]/12.0\n",
    "\n",
    "greenErrors\n",
    "   "
   ]
  },
  {
   "cell_type": "code",
   "execution_count": 156,
   "metadata": {
    "collapsed": false
   },
   "outputs": [
    {
     "data": {
      "text/plain": [
       "[138.91666666666666,\n",
       " 138.91666666666666,\n",
       " 90.75,\n",
       " 69.08333333333333,\n",
       " 49.666666666666664,\n",
       " 36.333333333333336,\n",
       " 27.916666666666668,\n",
       " 21.5,\n",
       " 17.75,\n",
       " 14.25,\n",
       " 12.583333333333334,\n",
       " 11.083333333333334,\n",
       " 10.25,\n",
       " 9.416666666666666,\n",
       " 8.916666666666666,\n",
       " 8.416666666666666,\n",
       " 7.833333333333333,\n",
       " 7.25,\n",
       " 6.25,\n",
       " 5.0,\n",
       " 3.9166666666666665,\n",
       " 3.5833333333333335,\n",
       " 3.5833333333333335,\n",
       " 3.5833333333333335,\n",
       " 3.6666666666666665,\n",
       " 4.333333333333333,\n",
       " 5.333333333333333,\n",
       " 5.75,\n",
       " 7.0,\n",
       " 7.0]"
      ]
     },
     "execution_count": 156,
     "metadata": {},
     "output_type": "execute_result"
    }
   ],
   "source": [
    "#for blue\n",
    "blueErrors = [0]*len(thresholds)\n",
    "for nameIndex in range(0,len(videoList)):\n",
    "    #for every vid, get blue\n",
    "    r,g,b = readFromFile(videoList[nameIndex])\n",
    "    i=0;\n",
    "    while(i <len(thresholds)):\n",
    "    #for every vid, test each threshold for errors\n",
    "    #add errors to approprate place on blueErrors list\n",
    "        rrB = rrList(peakList(b,i+1))\n",
    "        blueErrors[i] = blueErrors[i]+getError(rrB)\n",
    "        i= i+1\n",
    "\n",
    "#get average number of errors per video\n",
    "for i in range(0,len(blueErrors)):\n",
    "    blueErrors[i] = blueErrors[i]/12.0\n",
    "\n",
    "blueErrors"
   ]
  },
  {
   "cell_type": "code",
   "execution_count": 157,
   "metadata": {
    "collapsed": false
   },
   "outputs": [
    {
     "data": {
      "text/plain": [
       "<matplotlib.axes._subplots.AxesSubplot at 0x7fdbf8e02990>"
      ]
     },
     "execution_count": 157,
     "metadata": {},
     "output_type": "execute_result"
    },
    {
     "data": {
      "image/png": "[encoded data removed]",
      "text/plain": [
       "<matplotlib.figure.Figure at 0x7fdbf8eb4050>"
      ]
     },
     "metadata": {},
     "output_type": "display_data"
    }
   ],
   "source": [
    "redSeries = pd.Series(redErrors, index=thresholds)\n",
    "%matplotlib inline\n",
    "redSeries.plot(title=\"Average error vs Threshold\")"
   ]
  },
  {
   "cell_type": "code",
   "execution_count": 158,
   "metadata": {
    "collapsed": false
   },
   "outputs": [
    {
     "data": {
      "text/plain": [
       "<matplotlib.axes._subplots.AxesSubplot at 0x7fdbf8d2ae90>"
      ]
     },
     "execution_count": 158,
     "metadata": {},
     "output_type": "execute_result"
    },
    {
     "data": {
      "image/png": "[encoded data removed]",
      "text/plain": [
       "<matplotlib.figure.Figure at 0x7fdbf8e33c50>"
      ]
     },
     "metadata": {},
     "output_type": "display_data"
    }
   ],
   "source": [
    "greenSeries = pd.Series(greenErrors, index=thresholds)\n",
    "%matplotlib inline\n",
    "greenSeries.plot(title=\"Average error vs Threshold\")"
   ]
  },
  {
   "cell_type": "code",
   "execution_count": 159,
   "metadata": {
    "collapsed": false
   },
   "outputs": [
    {
     "data": {
      "text/plain": [
       "<matplotlib.axes._subplots.AxesSubplot at 0x7fdbf8d73490>"
      ]
     },
     "execution_count": 159,
     "metadata": {},
     "output_type": "execute_result"
    },
    {
     "data": {
      "image/png": "[encoded data removed]",
      "text/plain": [
       "<matplotlib.figure.Figure at 0x7fdbf9027690>"
      ]
     },
     "metadata": {},
     "output_type": "display_data"
    }
   ],
   "source": [
    "blueSeries = pd.Series(blueErrors, index=thresholds)\n",
    "%matplotlib inline\n",
    "blueSeries.plot(title=\"Average error vs Threshold\")"
   ]
  }
 ],
 "metadata": {
  "kernelspec": {
   "display_name": "Python 2",
   "language": "python",
   "name": "python2"
  },
  "language_info": {
   "codemirror_mode": {
    "name": "ipython",
    "version": 2
   },
   "file_extension": ".py",
   "mimetype": "text/x-python",
   "name": "python",
   "nbconvert_exporter": "python",
   "pygments_lexer": "ipython2",
   "version": "2.7.10"
  }
 },
 "nbformat": 4,
 "nbformat_minor": 0
}
