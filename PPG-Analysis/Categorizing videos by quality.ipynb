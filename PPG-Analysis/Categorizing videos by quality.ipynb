{
 "cells": [
  {
   "cell_type": "code",
   "execution_count": 1,
   "metadata": {
    "collapsed": true
   },
   "outputs": [],
   "source": [
    "import cv2\n",
    "import numpy as np\n",
    "import pandas as pd\n",
    "import matplotlib.pyplot as plt\n",
    "import numpy"
   ]
  },
  {
   "cell_type": "code",
   "execution_count": 2,
   "metadata": {
    "collapsed": true
   },
   "outputs": [],
   "source": [
    "videoList = [\"VID_20150123_172926_F.mp4.txt\",\n",
    "    \"VID_20150123_173259_Q.mp4.txt\",\n",
    "    \"VID_20150123_173329_F.mp4.txt\",\n",
    "    \"VID_20150123_173358_Q.mp4.txt\",\n",
    "    #\"VID_20150123_173427_F.mp4.txt\",\n",
    "    \"new_VID_20150123_173427_F.mp4.txt\",\n",
    "    \"VID_20150123_173457_Q.mp4.txt\",\n",
    "    \"VID_20150123_173556_Q.mp4.txt\",\n",
    "    \"VID_20150123_173629_F.mp4.txt\",\n",
    "    \"VID_20150123_173700_Q.mp4.txt\",\n",
    "    \"VID_20150123_173757_Q.mp4.txt\",\n",
    "    \"VID_20150123_173028_F.mp4.txt\",\n",
    "    #\"VID_20150123_172857_Q.mp4.txt\",\n",
    "    \"new_VID_20150123_172857_Q.mp4.txt\",\n",
    "    \"VID_20150123_173727_F.mp4.txt\",\n",
    "    \"VID_20150123_172827_F.mp4.txt\",\n",
    "    \"VID_20150123_172956_Q.mp4.txt\",\n",
    "    \"VID_20150123_173057_Q.mp4.txt\",\n",
    "    \"VID_20150123_173127_F.mp4.txt\",\n",
    "    \"VID_20150123_173157_Q.mp4.txt\",\n",
    "    \"VID_20150123_173230_F.mp4.txt\",\n",
    "    \"VID_20150123_173527_F.mp4.txt\"]\n",
    "fps = 30.323427803"
   ]
  },
  {
   "cell_type": "code",
   "execution_count": 3,
   "metadata": {
    "collapsed": true
   },
   "outputs": [],
   "source": [
    "def readFromFile(fileName):\n",
    "    l =np.loadtxt(fileName)\n",
    "    return l[0], l[1], l[2]"
   ]
  },
  {
   "cell_type": "code",
   "execution_count": 4,
   "metadata": {
    "collapsed": true
   },
   "outputs": [],
   "source": [
    "#will return a list of the indexes of the peaks\n",
    "def peakList(colorList, frameThreshold):\n",
    "    peaks = []\n",
    "    for i in range(1,len(colorList)-1):\n",
    "        #check to see if greater than immediate surroundings\n",
    "        if colorList[i-1] <  colorList[i]  and colorList[i+1] <  colorList[i]:\n",
    "            #if so, check every other frame in the threshold\n",
    "            for j in range(2, frameThreshold+1):\n",
    "                #check everything in threshold before - will break if not a peak\n",
    "                if i-j>0:\n",
    "                    if colorList[i]<colorList[i-j]:\n",
    "                        break\n",
    "                #check everything in threshold after\n",
    "                if i+j<len(colorList):\n",
    "                    if colorList[i]<colorList[i+j]:\n",
    "                        break\n",
    "            else:\n",
    "                peaks.append(i)\n",
    "    return peaks"
   ]
  },
  {
   "cell_type": "code",
   "execution_count": 5,
   "metadata": {
    "collapsed": true
   },
   "outputs": [],
   "source": [
    "def rrList(peakIndexes):\n",
    "    rrlist = [];\n",
    "    for i in range(1,len(peakIndexes)):\n",
    "        rr = (peakIndexes[i]-peakIndexes[i-1])*1/fps\n",
    "        rrlist.append(rr)\n",
    "    return rrlist"
   ]
  },
  {
   "cell_type": "code",
   "execution_count": 6,
   "metadata": {
    "collapsed": true
   },
   "outputs": [],
   "source": [
    "def timeList(rrList):\n",
    "    times = [rrList[0]]\n",
    "    for i in range(1,len(rrList)):\n",
    "        times.append(times[i-1]+rrList[i])\n",
    "    return times"
   ]
  },
  {
   "cell_type": "code",
   "execution_count": 7,
   "metadata": {
    "collapsed": true
   },
   "outputs": [],
   "source": [
    "thresholds = range(1,31)"
   ]
  },
  {
   "cell_type": "code",
   "execution_count": 8,
   "metadata": {
    "collapsed": false
   },
   "outputs": [],
   "source": [
    "def getError(rrList):\n",
    "    errors = 0\n",
    "    for rr in rrList:\n",
    "        #heart beat ranges from 50 to 110 pulses per minute\n",
    "            if rr<.54 or rr>1.2:\n",
    "                errors = errors+1\n",
    "    return errors"
   ]
  },
  {
   "cell_type": "code",
   "execution_count": 9,
   "metadata": {
    "collapsed": false
   },
   "outputs": [],
   "source": [
    "#goes through all vids, constructs matrix with vid,colors,errors\n",
    "allErrors = []\n",
    "for eachVideo in range(0,len(videoList)):\n",
    "    allErrors.append([[],[],[]])\n",
    "    \n",
    "        \n",
    "for nameIndex in range(0,len(videoList)):\n",
    "    #for every vid, get colors\n",
    "    r,g,b = readFromFile(videoList[nameIndex])\n",
    "    colors = [r,g,b]\n",
    "    for c in range(0,len(colors)):\n",
    "        #list of errors for this paricular color and video\n",
    "        errors = [0]*len(thresholds)\n",
    "        for i in range(0,len(thresholds)):\n",
    "        #for every vid, test each threshold for errors\n",
    "        #add errors to approprate place on redErrors list\n",
    "            rr = rrList(peakList(colors[c],i+1))\n",
    "            if len(rr)>0:\n",
    "                #relative error\n",
    "                errors[i] = errors[i]+getError(rr)/(len(rr)*1.0)\n",
    "            if len(rr)==0:\n",
    "                #no rr intervals detected, which is obviously wrong, so 100% error\n",
    "                errors[i] = errors[i]+1\n",
    "        allErrors[nameIndex][c]=errors\n",
    "#get average number of errors per video\n",
    "reds= [0]*30\n",
    "greens= [0]*30\n",
    "blues = [0]*30\n",
    "for a in range(0,len(allErrors)):\n",
    "    for e in range(0,len(allErrors[a][0])):\n",
    "            reds[e] = reds[e]+allErrors[a][0][e]\n",
    "            greens[e] = greens[e]+allErrors[a][1][e]\n",
    "            blues[e]= blues[e]+allErrors[a][2][e]\n",
    "\n",
    "for i in range(0,len(reds)):\n",
    "    reds[i] = reds[i]/12.0\n",
    "    greens[i] = greens[i]/12.0\n",
    "    blues[i] = blues[i]/12.0\n"
   ]
  },
  {
   "cell_type": "code",
   "execution_count": 10,
   "metadata": {
    "collapsed": false
   },
   "outputs": [],
   "source": [
    "#total threshold window\n",
    "for i in range(0,len(thresholds)):\n",
    "    thresholds[i]= thresholds[i]*2"
   ]
  },
  {
   "cell_type": "markdown",
   "metadata": {},
   "source": [
    "In the following cells, I will categorize each video by quality. Quality is determined by the the average relative error when a video is analyzed with the a color's optimal frame threshold. For example, a video an average relative error of .2 (when a particular color/ opimal frame threshold is chosen) is of higher quality than a video of error .6. \n",
    "\n",
    "I will begin this process by categorizing the videos in a list where list[0]= videos with errors ranging from 0-.2, list[1] = errors from .2-.4, etc."
   ]
  },
  {
   "cell_type": "code",
   "execution_count": 11,
   "metadata": {
    "collapsed": false
   },
   "outputs": [],
   "source": [
    "def getQualityList(interval, videoList):\n",
    "    #make sure 1/interval is a whole number\n",
    "    if 1/interval!= int(1/interval):\n",
    "        return []\n",
    "    \n",
    "    qList = []\n",
    "    i=0\n",
    "    index=0\n",
    "    while(i<.9999):\n",
    "        intervalList = []\n",
    "        for video in range(0,len(videoList)):\n",
    "            if allErrors[video][0][6]>=i and allErrors[video][0][6]<i+interval:\n",
    "                intervalList.append(video)\n",
    "        qList.append(intervalList)\n",
    "        i+=interval\n",
    "    return qList"
   ]
  },
  {
   "cell_type": "code",
   "execution_count": 12,
   "metadata": {
    "collapsed": false
   },
   "outputs": [
    {
     "data": {
      "text/plain": [
       "[[0, 1, 3, 5, 6, 8, 9, 10, 11, 12, 13, 14, 15, 16, 17, 18],\n",
       " [7],\n",
       " [19],\n",
       " [2, 4],\n",
       " []]"
      ]
     },
     "execution_count": 12,
     "metadata": {},
     "output_type": "execute_result"
    }
   ],
   "source": [
    "getQualityList(.2,videoList)"
   ]
  },
  {
   "cell_type": "code",
   "execution_count": 13,
   "metadata": {
    "collapsed": false
   },
   "outputs": [
    {
     "data": {
      "text/plain": [
       "[[0, 1, 3, 5, 6, 8, 9, 10, 11, 13, 14, 15, 16, 17, 18],\n",
       " [12],\n",
       " [7],\n",
       " [],\n",
       " [],\n",
       " [19],\n",
       " [2],\n",
       " [4],\n",
       " [],\n",
       " []]"
      ]
     },
     "execution_count": 13,
     "metadata": {},
     "output_type": "execute_result"
    }
   ],
   "source": [
    "getQualityList(.1,videoList)"
   ]
  },
  {
   "cell_type": "code",
   "execution_count": 14,
   "metadata": {
    "collapsed": false
   },
   "outputs": [
    {
     "data": {
      "text/plain": [
       "[[0, 1, 3, 5, 6, 8, 9, 10, 11, 13, 14, 15, 16, 17, 18],\n",
       " [],\n",
       " [],\n",
       " [12],\n",
       " [7],\n",
       " [],\n",
       " [],\n",
       " [],\n",
       " [],\n",
       " [],\n",
       " [19],\n",
       " [],\n",
       " [],\n",
       " [2],\n",
       " [],\n",
       " [4],\n",
       " [],\n",
       " [],\n",
       " [],\n",
       " []]"
      ]
     },
     "execution_count": 14,
     "metadata": {},
     "output_type": "execute_result"
    }
   ],
   "source": [
    "getQualityList(.05,videoList)"
   ]
  },
  {
   "cell_type": "code",
   "execution_count": 15,
   "metadata": {
    "collapsed": false
   },
   "outputs": [
    {
     "data": {
      "text/plain": [
       "[[1, 3, 5, 6, 8, 9, 10, 14, 17],\n",
       " [0, 11, 13, 15, 16],\n",
       " [18],\n",
       " [],\n",
       " [],\n",
       " [],\n",
       " [],\n",
       " [],\n",
       " [],\n",
       " [12],\n",
       " [7],\n",
       " [],\n",
       " [],\n",
       " [],\n",
       " [],\n",
       " [],\n",
       " [],\n",
       " [],\n",
       " [],\n",
       " [],\n",
       " [],\n",
       " [],\n",
       " [],\n",
       " [],\n",
       " [19],\n",
       " [],\n",
       " [],\n",
       " [],\n",
       " [],\n",
       " [],\n",
       " [],\n",
       " [],\n",
       " [],\n",
       " [],\n",
       " [2],\n",
       " [],\n",
       " [],\n",
       " [],\n",
       " [4],\n",
       " [],\n",
       " [],\n",
       " [],\n",
       " [],\n",
       " [],\n",
       " [],\n",
       " [],\n",
       " [],\n",
       " [],\n",
       " [],\n",
       " []]"
      ]
     },
     "execution_count": 15,
     "metadata": {},
     "output_type": "execute_result"
    }
   ],
   "source": [
    "getQualityList(.02,videoList)"
   ]
  },
  {
   "cell_type": "code",
   "execution_count": 16,
   "metadata": {
    "collapsed": false
   },
   "outputs": [
    {
     "data": {
      "text/plain": [
       "[[1, 3, 5, 6, 8, 9, 10, 14, 17],\n",
       " [],\n",
       " [0, 13, 16],\n",
       " [11, 15],\n",
       " [18],\n",
       " [],\n",
       " [],\n",
       " [],\n",
       " [],\n",
       " [],\n",
       " [],\n",
       " [],\n",
       " [],\n",
       " [],\n",
       " [],\n",
       " [],\n",
       " [],\n",
       " [],\n",
       " [],\n",
       " [12],\n",
       " [],\n",
       " [7],\n",
       " [],\n",
       " [],\n",
       " [],\n",
       " [],\n",
       " [],\n",
       " [],\n",
       " [],\n",
       " [],\n",
       " [],\n",
       " [],\n",
       " [],\n",
       " [],\n",
       " [],\n",
       " [],\n",
       " [],\n",
       " [],\n",
       " [],\n",
       " [],\n",
       " [],\n",
       " [],\n",
       " [],\n",
       " [],\n",
       " [],\n",
       " [],\n",
       " [],\n",
       " [],\n",
       " [],\n",
       " [19],\n",
       " [],\n",
       " [],\n",
       " [],\n",
       " [],\n",
       " [],\n",
       " [],\n",
       " [],\n",
       " [],\n",
       " [],\n",
       " [],\n",
       " [],\n",
       " [],\n",
       " [],\n",
       " [],\n",
       " [],\n",
       " [],\n",
       " [],\n",
       " [],\n",
       " [2],\n",
       " [],\n",
       " [],\n",
       " [],\n",
       " [],\n",
       " [],\n",
       " [],\n",
       " [],\n",
       " [4],\n",
       " [],\n",
       " [],\n",
       " [],\n",
       " [],\n",
       " [],\n",
       " [],\n",
       " [],\n",
       " [],\n",
       " [],\n",
       " [],\n",
       " [],\n",
       " [],\n",
       " [],\n",
       " [],\n",
       " [],\n",
       " [],\n",
       " [],\n",
       " [],\n",
       " [],\n",
       " [],\n",
       " [],\n",
       " [],\n",
       " []]"
      ]
     },
     "execution_count": 16,
     "metadata": {},
     "output_type": "execute_result"
    }
   ],
   "source": [
    "getQualityList(.01,videoList)"
   ]
  },
  {
   "cell_type": "code",
   "execution_count": 17,
   "metadata": {
    "collapsed": false
   },
   "outputs": [
    {
     "name": "stdout",
     "output_type": "stream",
     "text": [
      "Threshold with minimum number of errors:\n",
      "10\n"
     ]
    },
    {
     "data": {
      "image/png": "[encoded data removed]",
      "text/plain": [
       "<matplotlib.figure.Figure at 0x7f834659c8d0>"
      ]
     },
     "metadata": {},
     "output_type": "display_data"
    }
   ],
   "source": [
    "#videos 7 and 2 seem to be particularly problematic\n",
    "\n",
    "two= pd.Series(allErrors[2][0], index=thresholds)\n",
    "\n",
    "%matplotlib inline\n",
    "r = two.plot(title=\"Average Error vs Threshold for Red\")\n",
    "r.set_xlabel(\"Threshold of Frames\")\n",
    "r.set_ylabel(\"% Error\")\n",
    "print \"Threshold with minimum number of errors:\"\n",
    "print two.idxmin()"
   ]
  },
  {
   "cell_type": "code",
   "execution_count": 18,
   "metadata": {
    "collapsed": false
   },
   "outputs": [
    {
     "name": "stdout",
     "output_type": "stream",
     "text": [
      "Threshold with minimum number of errors:\n",
      "14\n"
     ]
    },
    {
     "data": {
      "image/png": "[encoded data removed]",
      "text/plain": [
       "<matplotlib.figure.Figure at 0x7f8346752f10>"
      ]
     },
     "metadata": {},
     "output_type": "display_data"
    }
   ],
   "source": [
    "seven= pd.Series(allErrors[7][0], index=thresholds)\n",
    "\n",
    "%matplotlib inline\n",
    "r = seven.plot(title=\"Average Error vs Threshold for Red\")\n",
    "r.set_xlabel(\"Threshold of Frames\")\n",
    "r.set_ylabel(\"% Error\")\n",
    "print \"Threshold with minimum number of errors:\"\n",
    "print seven.idxmin()"
   ]
  },
  {
   "cell_type": "code",
   "execution_count": 19,
   "metadata": {
    "collapsed": false
   },
   "outputs": [
    {
     "name": "stdout",
     "output_type": "stream",
     "text": [
      "14\n",
      "0.025641025641\n",
      "14\n",
      "0.0\n"
     ]
    },
    {
     "data": {
      "image/png": "[encoded data removed]",
      "text/plain": [
       "<matplotlib.figure.Figure at 0x7f834680b250>"
      ]
     },
     "metadata": {},
     "output_type": "display_data"
    }
   ],
   "source": [
    "#compare with some of the better ones like 1,0 and 3, which are relatively much better than 2 and 7\n",
    "\n",
    "one= pd.Series(allErrors[1][0], index=thresholds)\n",
    "zero = pd.Series(allErrors[0][0], index=thresholds)\n",
    "three = pd.Series(allErrors[3][0], index=thresholds)\n",
    "r = one.plot(title=\"Average Error vs Threshold for Red\")\n",
    "r2 = zero.plot()\n",
    "r3 = three.plot()\n",
    "r.set_xlabel(\"Threshold of Frames\")\n",
    "r.set_ylabel(\"% Error\")\n",
    "print zero.idxmin()\n",
    "print zero.min()\n",
    "print three.idxmin()\n",
    "print three.min()\n",
    "#blue is 1, green is 3, red is 0"
   ]
  },
  {
   "cell_type": "code",
   "execution_count": 20,
   "metadata": {
    "collapsed": false
   },
   "outputs": [
    {
     "name": "stdout",
     "output_type": "stream",
     "text": [
      "[16, 1, 1, 2, 0]\n"
     ]
    },
    {
     "data": {
      "image/png": "[encoded data removed]",
      "text/plain": [
       "<matplotlib.figure.Figure at 0x7f8346906ad0>"
      ]
     },
     "metadata": {},
     "output_type": "display_data"
    }
   ],
   "source": [
    "beams = ('0%-20%', '20%-40%', '40%-60%', '60%-80%','80%-100%')\n",
    "y_pos = numpy.arange(len(beams))\n",
    "qualList = [0,0,0,0,0]\n",
    "for i in range(0,len(getQualityList(.2,videoList))):\n",
    "    qualList[i]=len(getQualityList(.2,videoList)[i])\n",
    "print qualList\n",
    "\n",
    "plt.barh(y_pos,qualList,align='center', alpha=0.4)\n",
    "plt.yticks(y_pos, beams)\n",
    "plt.xlabel('Number of Videos')\n",
    "plt.ylabel('Percent Error')\n",
    "plt.xlim(0, len(videoList))\n",
    "plt.title('Number of Videos Categorized by Percent Error')\n",
    "plt.show()"
   ]
  }
 ],
 "metadata": {
  "kernelspec": {
   "display_name": "Python 2",
   "language": "python",
   "name": "python2"
  },
  "language_info": {
   "codemirror_mode": {
    "name": "ipython",
    "version": 2
   },
   "file_extension": ".py",
   "mimetype": "text/x-python",
   "name": "python",
   "nbconvert_exporter": "python",
   "pygments_lexer": "ipython2",
   "version": "2.7.10"
  }
 },
 "nbformat": 4,
 "nbformat_minor": 0
}
