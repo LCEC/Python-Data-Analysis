{
 "cells": [
  {
   "cell_type": "code",
   "execution_count": 137,
   "metadata": {
    "collapsed": true
   },
   "outputs": [],
   "source": [
    "import cv2\n",
    "import numpy as np\n",
    "import pandas as pd\n",
    "import matplotlib.pyplot as plt\n",
    "import numpy"
   ]
  },
  {
   "cell_type": "code",
   "execution_count": 138,
   "metadata": {
    "collapsed": true
   },
   "outputs": [],
   "source": [
    "videoList = [\"VID_20150123_172926_F.mp4.txt\",\n",
    "    \"VID_20150123_173259_Q.mp4.txt\",\n",
    "    \"VID_20150123_173329_F.mp4.txt\",\n",
    "    \"VID_20150123_173358_Q.mp4.txt\",\n",
    "    \"VID_20150123_173427_F.mp4.txt\",\n",
    "    \"VID_20150123_173457_Q.mp4.txt\",\n",
    "    \"VID_20150123_173556_Q.mp4.txt\",\n",
    "    \"VID_20150123_173629_F.mp4.txt\",\n",
    "    \"VID_20150123_173700_Q.mp4.txt\",\n",
    "    \"VID_20150123_173757_Q.mp4.txt\",\n",
    "    \"VID_20150123_173028_F.mp4.txt\",\n",
    "    \"VID_20150123_172857_Q.mp4.txt\",\n",
    "    \"VID_20150123_173727_F.mp4.txt\",\n",
    "    \"VID_20150123_172827_F.mp4.txt\",\n",
    "    \"VID_20150123_172956_Q.mp4.txt\",\n",
    "    \"VID_20150123_173057_Q.mp4.txt\",\n",
    "    \"VID_20150123_173127_F.mp4.txt\",\n",
    "    \"VID_20150123_173157_Q.mp4.txt\",\n",
    "    \"VID_20150123_173230_F.mp4.txt\",\n",
    "    \"VID_20150123_173527_F.mp4.txt\"]\n",
    "fps = 30.323427803"
   ]
  },
  {
   "cell_type": "code",
   "execution_count": 139,
   "metadata": {
    "collapsed": true
   },
   "outputs": [],
   "source": [
    "def readFromFile(fileName):\n",
    "    l =np.loadtxt(fileName)\n",
    "    return l[0], l[1], l[2]"
   ]
  },
  {
   "cell_type": "code",
   "execution_count": 140,
   "metadata": {
    "collapsed": true
   },
   "outputs": [],
   "source": [
    "#will return a list of the indexes of the peaks\n",
    "def peakList(colorList, frameThreshold):\n",
    "    peaks = []\n",
    "    for i in range(1,len(colorList)-1):\n",
    "        #check to see if greater than immediate surroundings\n",
    "        if colorList[i-1] <  colorList[i]  and colorList[i+1] <  colorList[i]:\n",
    "            #if so, check every other frame in the threshold\n",
    "            for j in range(2, frameThreshold+1):\n",
    "                #check everything in threshold before - will break if not a peak\n",
    "                if i-j>0:\n",
    "                    if colorList[i]<colorList[i-j]:\n",
    "                        break\n",
    "                #check everything in threshold after\n",
    "                if i+j<len(colorList):\n",
    "                    if colorList[i]<colorList[i+j]:\n",
    "                        break\n",
    "            else:\n",
    "                peaks.append(i)\n",
    "    return peaks"
   ]
  },
  {
   "cell_type": "code",
   "execution_count": 141,
   "metadata": {
    "collapsed": true
   },
   "outputs": [],
   "source": [
    "def rrList(peakIndexes):\n",
    "    rrlist = [];\n",
    "    for i in range(1,len(peakIndexes)):\n",
    "        rr = (peakIndexes[i]-peakIndexes[i-1])*1/fps\n",
    "        rrlist.append(rr)\n",
    "    return rrlist"
   ]
  },
  {
   "cell_type": "code",
   "execution_count": 142,
   "metadata": {
    "collapsed": false
   },
   "outputs": [],
   "source": [
    "sig1 = []\n",
    "sig2 = []\n",
    "signal1 = open(\"FullSignal1\")\n",
    "signal2 = open(\"FullSignal2\")\n",
    "filecontents = signal1.readlines()\n",
    "for line in filecontents:\n",
    "    num = line.strip('\\n')\n",
    "    sig1.append((int)(num))\n",
    "    \n",
    "filecontents = signal2.readlines()\n",
    "for line in filecontents:\n",
    "    num = line.strip('\\n')\n",
    "    sig2.append((int)(num))\n",
    "    \n",
    "for i in range(0,len(sig1)):\n",
    "    sig1[i]= sig1[i]/1000.0\n",
    "for i in range(0,len(sig2)):\n",
    "    sig2[i]= sig2[i]/1000.0"
   ]
  },
  {
   "cell_type": "code",
   "execution_count": 143,
   "metadata": {
    "collapsed": false
   },
   "outputs": [],
   "source": [
    "def getDifference(segment,fullSignal, beginning):\n",
    "    relDist = 0\n",
    "    divisor=0\n",
    "    for i in range(0,len(segment)):\n",
    "        relDist += abs(segment[i]-fullSignal[i+beginning])\n",
    "        divisor+=(fullSignal[i+beginning])\n",
    "    relDist = relDist/divisor\n",
    "        #seems to always return the same number when I include /(fullSignal[i+beginning]) FIXED\n",
    "    return relDist\n",
    "    "
   ]
  },
  {
   "cell_type": "code",
   "execution_count": 144,
   "metadata": {
    "collapsed": false
   },
   "outputs": [],
   "source": [
    "#we've decided to obtain rr intervals at a total frame threshold of 14 and using the color red\n",
    "reds = []\n",
    "for i in range(0,len(videoList)):\n",
    "    r,g,b=readFromFile(videoList[i])\n",
    "    reds.append(r)\n",
    "frameThresh = 7\n",
    "\n",
    "rrLists = []\n",
    "for i in range(0,len(reds)):\n",
    "    rrLists.append(rrList(peakList(reds[i],7)))"
   ]
  },
  {
   "cell_type": "code",
   "execution_count": 145,
   "metadata": {
    "collapsed": true
   },
   "outputs": [],
   "source": [
    "def findBestMatch(segment,fullSignal):\n",
    "    diffs = []\n",
    "    for e in range(0,len(fullSignal)-len(segment)+1):\n",
    "        diffs.append(getDifference(segment,fullSignal,e))\n",
    "    return diffs.index(min(diffs)),min(diffs)"
   ]
  },
  {
   "cell_type": "code",
   "execution_count": 148,
   "metadata": {
    "collapsed": false
   },
   "outputs": [
    {
     "name": "stdout",
     "output_type": "stream",
     "text": [
      "(772, 0.28079338710067797)\n",
      "(289, 0.013529011419822622)\n",
      "[0.9233784578018539, 0.9233784578018539, 0.9233784578018539, 0.8904006557375019, 0.8904006557375019, 0.9233784578018539, 0.8244450516087981, 0.7584894474800943, 0.7584894474800943, 0.8244450516087981, 0.9563562598662059, 0.9563562598662059, 0.9563562598662059, 1.0223118639949096, 1.0223118639949096, 0.9893340619305577, 0.9893340619305577, 1.0223118639949096, 1.0223118639949096, 0.9563562598662059, 0.9563562598662059, 0.9893340619305577, 0.9893340619305577, 0.9563562598662059, 0.9563562598662059, 0.9563562598662059, 0.9893340619305577, 0.9563562598662059, 0.8904006557375019, 0.9563562598662059]\n",
      "[0.911, 0.922, 0.925, 0.893, 0.907, 0.896, 0.842, 0.789, 0.775, 0.833, 0.976, 0.943, 0.976, 1.033, 1.034, 0.994, 1.0, 1.032, 1.022, 0.969, 0.978, 1.0, 1.004, 0.96, 0.965, 0.976, 0.992, 0.947, 0.933, 0.954]\n"
     ]
    }
   ],
   "source": [
    "#Show the similarity of the best match\n",
    "print findBestMatch(rrLists[1],sig1)\n",
    "print findBestMatch(rrLists[1],sig2)\n",
    "print rrLists[1]\n",
    "print sig2[289:289+len(rrLists[1])]"
   ]
  },
  {
   "cell_type": "code",
   "execution_count": 161,
   "metadata": {
    "collapsed": false
   },
   "outputs": [
    {
     "name": "stdout",
     "output_type": "stream",
     "text": [
      "[1, 'Signal 2', 289, 0.013529011419822622]\n",
      "[3, 'Signal 2', 351, 0.019377144377706355]\n",
      "[5, 'Signal 2', 413, 0.01883560690755128]\n",
      "[6, 'Signal 2', 474, 0.010777444148100869]\n",
      "[8, 'Signal 2', 541, 0.018561124446814122]\n",
      "[9, 'Signal 2', 601, 0.021092907103444337]\n",
      "[10, 'Signal 1', 234, 0.026683958330108715]\n",
      "[14, 'Signal 2', 96, 0.02792884157508321]\n",
      "[17, 'Signal 2', 223, 0.019304002573009633]\n"
     ]
    }
   ],
   "source": [
    "#Videos shown to have the least error:\n",
    "bestVideos = [1, 3, 5, 6, 8, 9, 10, 14, 17]\n",
    "\n",
    "bestMatches = []\n",
    "#contains lists that are defined by [segment,fullSignal,index,diffValue]\n",
    "for video in bestVideos:\n",
    "    match1,diffValue1 = findBestMatch(rrLists[video],sig1)\n",
    "    match2,diffValue2 = findBestMatch(rrLists[video],sig2)\n",
    "    \n",
    "    if diffValue1<diffValue2:\n",
    "        bestMatches.append([video,\"Signal 1\",match1,diffValue1])\n",
    "    else:\n",
    "        bestMatches.append([video,\"Signal 2\",match2,diffValue2])\n",
    "for match in bestMatches:\n",
    "    print match"
   ]
  },
  {
   "cell_type": "code",
   "execution_count": 173,
   "metadata": {
    "collapsed": false
   },
   "outputs": [
    {
     "name": "stdout",
     "output_type": "stream",
     "text": [
      "[0, 'Signal 1', 145, 0.0516058667492009]\n",
      "[4, 'Signal 2', 32, 0.04014260245695516]\n",
      "[11, 'Signal 2', 32, 0.04568676033430361]\n",
      "[13, 'Signal 1', 55, 0.05740598670740003]\n",
      "[15, 'Signal 2', 159, 0.031288477618948055]\n",
      "[16, 'Signal 1', 325, 0.04730528985916612]\n",
      "[18, 'Signal 1', 416, 0.041679633643246734]\n",
      "0.626578239223 0.626578239223\n",
      "0.560622635094 0.560622635094\n",
      "0.494667030965 0.494667030965\n",
      "0.923378457802 0.923378457802\n",
      "0.923378457802 0.923378457802\n",
      "0.956356259866 0.956356259866\n",
      "0.989334061931 0.989334061931\n",
      "0.923378457802 0.923378457802\n",
      "0.791467249544 0.791467249544\n",
      "0.857422853673 0.824445051609\n",
      "0.857422853673 0.857422853673\n",
      "0.857422853673 0.857422853673\n",
      "0.857422853673 0.824445051609\n",
      "0.923378457802 0.923378457802\n",
      "1.02231186399 1.02231186399\n",
      "0.989334061931 0.956356259866\n",
      "0.956356259866 0.956356259866\n",
      "0.989334061931 0.989334061931\n",
      "0.989334061931 0.956356259866\n",
      "0.989334061931 0.989334061931\n",
      "0.923378457802 0.923378457802\n",
      "0.857422853673 0.857422853673\n",
      "0.890400655738 0.857422853673\n",
      "0.923378457802 0.923378457802\n",
      "0.956356259866 0.956356259866\n",
      "0.890400655738 0.857422853673\n",
      "0.923378457802 0.923378457802\n",
      "0.989334061931 0.989334061931\n",
      "0.956356259866 0.923378457802\n",
      "0.923378457802 0.923378457802\n",
      "0.923378457802 0.923378457802\n",
      "0.956356259866 0.923378457802\n",
      "0.923378457802 0.923378457802\n",
      "----------------------------\n",
      "0.626578239223 0.626578239223\n",
      "0.560622635094 0.560622635094\n",
      "0.494667030965 0.494667030965\n",
      "0.923378457802 0.923378457802\n",
      "0.923378457802 0.923378457802\n",
      "0.956356259866 0.956356259866\n",
      "0.989334061931 0.989334061931\n",
      "0.923378457802 0.923378457802\n",
      "0.791467249544 0.791467249544\n",
      "0.857422853673 0.824445051609\n",
      "0.857422853673 0.857422853673\n",
      "0.857422853673 0.857422853673\n",
      "0.857422853673 0.824445051609\n",
      "0.923378457802 0.923378457802\n",
      "1.02231186399 1.02231186399\n",
      "0.989334061931 0.956356259866\n",
      "0.956356259866 0.956356259866\n",
      "0.989334061931 0.989334061931\n",
      "0.989334061931 0.956356259866\n",
      "0.989334061931 0.989334061931\n",
      "0.923378457802 0.923378457802\n",
      "0.857422853673 0.857422853673\n",
      "0.890400655738 0.857422853673\n",
      "0.923378457802 0.923378457802\n",
      "0.956356259866 0.956356259866\n",
      "0.890400655738 0.857422853673\n",
      "0.923378457802 0.923378457802\n",
      "0.989334061931 0.989334061931\n",
      "0.956356259866 0.923378457802\n",
      "0.923378457802 0.923378457802\n",
      "0.923378457802 0.923378457802\n",
      "0.956356259866 0.923378457802\n",
      "0.923378457802 0.923378457802\n",
      "VID_20150123_173427_F.mp4.txt\n",
      "VID_20150123_172857_Q.mp4.txt\n"
     ]
    }
   ],
   "source": [
    "#trying with videos of slightly lesser quality\n",
    "goodVideos = [0, 4, 11, 13, 15, 16,18]\n",
    "goodMatches = []\n",
    "#contains lists that are defined by [segment,fullSignal,index,diffValue]\n",
    "for video in goodVideos:\n",
    "    match1,diffValue1 = findBestMatch(rrLists[video],sig1)\n",
    "    match2,diffValue2 = findBestMatch(rrLists[video],sig2)\n",
    "    \n",
    "    if diffValue1<diffValue2:\n",
    "        goodMatches.append([video,\"Signal 1\",match1,diffValue1])\n",
    "    else:\n",
    "        goodMatches.append([video,\"Signal 2\",match2,diffValue2])\n",
    "for match in goodMatches:\n",
    "    print match\n",
    "#uh oh! Two of them seem to have the exact same placement?\n",
    "for i in range(0,len(rrLists[4])):\n",
    "    print rrLists[4][i],rrLists[11][i]\n",
    "print \"----------------------------\"\n",
    "r4,g,b = readFromFile(videoList[4])\n",
    "r11,g,b = readFromFile(videoList[11])\n",
    "\n",
    "for i in range(0,len(rrList(peakList(r4,7)))):\n",
    "    print rrList(peakList(r4,7))[i],rrList(peakList(r11,7))[i]\n",
    "#seem to be nearly identical w/ a few switched... thats a problem\n",
    "print videoList[4]\n",
    "print videoList[11]"
   ]
  },
  {
   "cell_type": "code",
   "execution_count": 178,
   "metadata": {
    "collapsed": false
   },
   "outputs": [
    {
     "data": {
      "text/plain": [
       "326.26700000000005"
      ]
     },
     "execution_count": 178,
     "metadata": {},
     "output_type": "execute_result"
    }
   ],
   "source": [
    "#getting the time for the placement of the video\n",
    "seconds = 0\n",
    "for i in range(0,351):\n",
    "    seconds += sig2[i]\n",
    "seconds"
   ]
  }
 ],
 "metadata": {
  "kernelspec": {
   "display_name": "Python 2",
   "language": "python",
   "name": "python2"
  },
  "language_info": {
   "codemirror_mode": {
    "name": "ipython",
    "version": 2
   },
   "file_extension": ".py",
   "mimetype": "text/x-python",
   "name": "python",
   "nbconvert_exporter": "python",
   "pygments_lexer": "ipython2",
   "version": "2.7.10"
  }
 },
 "nbformat": 4,
 "nbformat_minor": 0
}
