{
 "cells": [
  {
   "cell_type": "code",
   "execution_count": 4,
   "metadata": {
    "collapsed": true
   },
   "outputs": [],
   "source": [
    "import cv2\n",
    "import numpy as np\n",
    "import pandas as pd"
   ]
  },
  {
   "cell_type": "code",
   "execution_count": 5,
   "metadata": {
    "collapsed": false
   },
   "outputs": [],
   "source": [
    "vid = cv2.VideoCapture(\"PPGsample1.mp4\")\n",
    "fps = vid.get(5)"
   ]
  },
  {
   "cell_type": "code",
   "execution_count": 6,
   "metadata": {
    "collapsed": true
   },
   "outputs": [],
   "source": [
    "def readFromFile(fileName):\n",
    "    colors =np.loadtxt(fileName)\n",
    "    return colors[0], colors[1], colors[2]"
   ]
  },
  {
   "cell_type": "code",
   "execution_count": 7,
   "metadata": {
    "collapsed": true
   },
   "outputs": [],
   "source": [
    "#will return a list of the indexes of the peaks\n",
    "def peakList(colorList, frameThreshold):\n",
    "    peaks = []\n",
    "    for i in range(1,len(colorList)-1):\n",
    "        #check to see if greater than immediate surroundings\n",
    "        if colorList[i-1] <  colorList[i]  and colorList[i+1] <  colorList[i]:\n",
    "            #if so, check every other frame in the threshold\n",
    "            for j in range(2, frameThreshold):\n",
    "                #check everything in threshold before - will break if not a peak\n",
    "                if i-j>0:\n",
    "                    if colorList[i]<colorList[i-j]:\n",
    "                        break\n",
    "                #check everything in threshold after\n",
    "                if i+j<len(colorList):\n",
    "                    if colorList[i]<colorList[i+j]:\n",
    "                        break\n",
    "            peaks.append(i)\n",
    "    return peaks"
   ]
  },
  {
   "cell_type": "code",
   "execution_count": 8,
   "metadata": {
    "collapsed": true
   },
   "outputs": [],
   "source": [
    "r,g,b = readFromFile(\"color-values-PPG1.txt\")"
   ]
  },
  {
   "cell_type": "code",
   "execution_count": 14,
   "metadata": {
    "collapsed": false
   },
   "outputs": [],
   "source": [
    "def rrList(peakIndexes):\n",
    "    rrlist = [];\n",
    "    for i in range(1,len(peakIndexes)):\n",
    "        rr = (peakIndexes[i]-peakIndexes[i-1])*1/fps\n",
    "        rrlist.append(rr)\n",
    "    return rrlist"
   ]
  },
  {
   "cell_type": "code",
   "execution_count": 26,
   "metadata": {
    "collapsed": false
   },
   "outputs": [],
   "source": [
    "def timeList(rrList):\n",
    "    times = [rrList[0]]\n",
    "    for i in range(1,len(rrList)):\n",
    "        times.append(times[i-1]+rrList[i])\n",
    "    return times"
   ]
  },
  {
   "cell_type": "code",
   "execution_count": 31,
   "metadata": {
    "collapsed": false
   },
   "outputs": [],
   "source": [
    "redRRList = rrList(peakList(r,13))\n",
    "redRR = pd.Series(redRRList,index = timeList(redRRList))"
   ]
  },
  {
   "cell_type": "code",
   "execution_count": 30,
   "metadata": {
    "collapsed": false
   },
   "outputs": [
    {
     "name": "stdout",
     "output_type": "stream",
     "text": [
      "There are  53 peaks.\n"
     ]
    },
    {
     "data": {
      "text/plain": [
       "<matplotlib.axes._subplots.AxesSubplot at 0x7ff472fdc990>"
      ]
     },
     "execution_count": 30,
     "metadata": {},
     "output_type": "execute_result"
    },
    {
     "data": {
      "image/png": "[encoded data removed]",
      "text/plain": [
       "<matplotlib.figure.Figure at 0x7ff47327bd10>"
      ]
     },
     "metadata": {},
     "output_type": "display_data"
    }
   ],
   "source": [
    "%matplotlib inline\n",
    "print \"There are \", str(len(peakList(r,13))), \"peaks.\"\n",
    "redRR.plot()"
   ]
  },
  {
   "cell_type": "code",
   "execution_count": null,
   "metadata": {
    "collapsed": true
   },
   "outputs": [],
   "source": []
  }
 ],
 "metadata": {
  "kernelspec": {
   "display_name": "Python 2",
   "language": "python",
   "name": "python2"
  },
  "language_info": {
   "codemirror_mode": {
    "name": "ipython",
    "version": 2
   },
   "file_extension": ".py",
   "mimetype": "text/x-python",
   "name": "python",
   "nbconvert_exporter": "python",
   "pygments_lexer": "ipython2",
   "version": "2.7.10"
  }
 },
 "nbformat": 4,
 "nbformat_minor": 0
}
