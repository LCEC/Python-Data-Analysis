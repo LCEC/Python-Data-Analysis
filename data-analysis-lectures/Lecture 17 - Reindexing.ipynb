{
 "cells": [
  {
   "cell_type": "code",
   "execution_count": 11,
   "metadata": {
    "collapsed": false
   },
   "outputs": [],
   "source": [
    "import numpy as np\n",
    "from pandas import Series, DataFrame\n",
    "import pandas as pd\n",
    "\n",
    "from numpy.random import randn"
   ]
  },
  {
   "cell_type": "code",
   "execution_count": 2,
   "metadata": {
    "collapsed": false
   },
   "outputs": [
    {
     "data": {
      "text/plain": [
       "A    1\n",
       "B    2\n",
       "C    3\n",
       "D    4\n",
       "dtype: int64"
      ]
     },
     "execution_count": 2,
     "metadata": {},
     "output_type": "execute_result"
    }
   ],
   "source": [
    "ser1 = Series([1,2,3,4],index = ['A','B','C','D'])\n",
    "\n",
    "ser1"
   ]
  },
  {
   "cell_type": "code",
   "execution_count": 3,
   "metadata": {
    "collapsed": false
   },
   "outputs": [
    {
     "data": {
      "text/plain": [
       "A     1\n",
       "B     2\n",
       "C     3\n",
       "D     4\n",
       "E   NaN\n",
       "F   NaN\n",
       "dtype: float64"
      ]
     },
     "execution_count": 3,
     "metadata": {},
     "output_type": "execute_result"
    }
   ],
   "source": [
    "ser2 = ser1.reindex(['A','B','C','D','E','F'])\n",
    "\n",
    "ser2"
   ]
  },
  {
   "cell_type": "code",
   "execution_count": 4,
   "metadata": {
    "collapsed": false
   },
   "outputs": [
    {
     "data": {
      "text/plain": [
       "A     1\n",
       "B     2\n",
       "C     3\n",
       "D     4\n",
       "E   NaN\n",
       "F   NaN\n",
       "G     0\n",
       "dtype: float64"
      ]
     },
     "execution_count": 4,
     "metadata": {},
     "output_type": "execute_result"
    }
   ],
   "source": [
    "ser2.reindex(['A','B','C','D','E','F','G'],fill_value=0)"
   ]
  },
  {
   "cell_type": "code",
   "execution_count": 5,
   "metadata": {
    "collapsed": false
   },
   "outputs": [
    {
     "data": {
      "text/plain": [
       "0        USA\n",
       "5     Mexico\n",
       "10    Canada\n",
       "dtype: object"
      ]
     },
     "execution_count": 5,
     "metadata": {},
     "output_type": "execute_result"
    }
   ],
   "source": [
    "ser3 = Series(['USA','Mexico','Canada'],index=[0,5,10])\n",
    "\n",
    "ser3\n"
   ]
  },
  {
   "cell_type": "code",
   "execution_count": 6,
   "metadata": {
    "collapsed": true
   },
   "outputs": [],
   "source": [
    "ranger = range(15)"
   ]
  },
  {
   "cell_type": "code",
   "execution_count": 7,
   "metadata": {
    "collapsed": false
   },
   "outputs": [
    {
     "data": {
      "text/plain": [
       "[0, 1, 2, 3, 4, 5, 6, 7, 8, 9, 10, 11, 12, 13, 14]"
      ]
     },
     "execution_count": 7,
     "metadata": {},
     "output_type": "execute_result"
    }
   ],
   "source": [
    "ranger"
   ]
  },
  {
   "cell_type": "code",
   "execution_count": 8,
   "metadata": {
    "collapsed": false
   },
   "outputs": [
    {
     "data": {
      "text/plain": [
       "0        USA\n",
       "1        USA\n",
       "2        USA\n",
       "3        USA\n",
       "4        USA\n",
       "5     Mexico\n",
       "6     Mexico\n",
       "7     Mexico\n",
       "8     Mexico\n",
       "9     Mexico\n",
       "10    Canada\n",
       "11    Canada\n",
       "12    Canada\n",
       "13    Canada\n",
       "14    Canada\n",
       "dtype: object"
      ]
     },
     "execution_count": 8,
     "metadata": {},
     "output_type": "execute_result"
    }
   ],
   "source": [
    "ser3.reindex(ranger,method='ffill')"
   ]
  },
  {
   "cell_type": "code",
   "execution_count": 9,
   "metadata": {
    "collapsed": false
   },
   "outputs": [
    {
     "data": {
      "text/plain": [
       "0        USA\n",
       "5     Mexico\n",
       "10    Canada\n",
       "dtype: object"
      ]
     },
     "execution_count": 9,
     "metadata": {},
     "output_type": "execute_result"
    }
   ],
   "source": [
    "ser3"
   ]
  },
  {
   "cell_type": "code",
   "execution_count": 12,
   "metadata": {
    "collapsed": false
   },
   "outputs": [
    {
     "data": {
      "text/html": [
       "<div>\n",
       "<table border=\"1\" class=\"dataframe\">\n",
       "  <thead>\n",
       "    <tr style=\"text-align: right;\">\n",
       "      <th></th>\n",
       "      <th>col1</th>\n",
       "      <th>col2</th>\n",
       "      <th>col3</th>\n",
       "      <th>col4</th>\n",
       "      <th>col5</th>\n",
       "    </tr>\n",
       "  </thead>\n",
       "  <tbody>\n",
       "    <tr>\n",
       "      <th>A</th>\n",
       "      <td>0.847376</td>\n",
       "      <td>1.501425</td>\n",
       "      <td>-1.763767</td>\n",
       "      <td>0.394321</td>\n",
       "      <td>-0.233774</td>\n",
       "    </tr>\n",
       "    <tr>\n",
       "      <th>B</th>\n",
       "      <td>-2.372153</td>\n",
       "      <td>0.111424</td>\n",
       "      <td>0.041674</td>\n",
       "      <td>1.478901</td>\n",
       "      <td>0.933608</td>\n",
       "    </tr>\n",
       "    <tr>\n",
       "      <th>D</th>\n",
       "      <td>1.294261</td>\n",
       "      <td>-0.637421</td>\n",
       "      <td>-1.276617</td>\n",
       "      <td>0.605649</td>\n",
       "      <td>0.819089</td>\n",
       "    </tr>\n",
       "    <tr>\n",
       "      <th>E</th>\n",
       "      <td>0.519105</td>\n",
       "      <td>-1.998150</td>\n",
       "      <td>-0.103990</td>\n",
       "      <td>-0.157340</td>\n",
       "      <td>-0.598053</td>\n",
       "    </tr>\n",
       "    <tr>\n",
       "      <th>F</th>\n",
       "      <td>-0.895702</td>\n",
       "      <td>0.567519</td>\n",
       "      <td>-0.580411</td>\n",
       "      <td>0.883034</td>\n",
       "      <td>-0.248119</td>\n",
       "    </tr>\n",
       "  </tbody>\n",
       "</table>\n",
       "</div>"
      ],
      "text/plain": [
       "       col1      col2      col3      col4      col5\n",
       "A  0.847376  1.501425 -1.763767  0.394321 -0.233774\n",
       "B -2.372153  0.111424  0.041674  1.478901  0.933608\n",
       "D  1.294261 -0.637421 -1.276617  0.605649  0.819089\n",
       "E  0.519105 -1.998150 -0.103990 -0.157340 -0.598053\n",
       "F -0.895702  0.567519 -0.580411  0.883034 -0.248119"
      ]
     },
     "execution_count": 12,
     "metadata": {},
     "output_type": "execute_result"
    }
   ],
   "source": [
    "dframe = DataFrame(randn(25).reshape(5,5),index=['A','B','D','E','F'],\n",
    "                   columns=['col1','col2','col3','col4','col5'])\n",
    "dframe"
   ]
  },
  {
   "cell_type": "code",
   "execution_count": 13,
   "metadata": {
    "collapsed": false
   },
   "outputs": [
    {
     "data": {
      "text/html": [
       "<div>\n",
       "<table border=\"1\" class=\"dataframe\">\n",
       "  <thead>\n",
       "    <tr style=\"text-align: right;\">\n",
       "      <th></th>\n",
       "      <th>col1</th>\n",
       "      <th>col2</th>\n",
       "      <th>col3</th>\n",
       "      <th>col4</th>\n",
       "      <th>col5</th>\n",
       "    </tr>\n",
       "  </thead>\n",
       "  <tbody>\n",
       "    <tr>\n",
       "      <th>A</th>\n",
       "      <td>0.847376</td>\n",
       "      <td>1.501425</td>\n",
       "      <td>-1.763767</td>\n",
       "      <td>0.394321</td>\n",
       "      <td>-0.233774</td>\n",
       "    </tr>\n",
       "    <tr>\n",
       "      <th>B</th>\n",
       "      <td>-2.372153</td>\n",
       "      <td>0.111424</td>\n",
       "      <td>0.041674</td>\n",
       "      <td>1.478901</td>\n",
       "      <td>0.933608</td>\n",
       "    </tr>\n",
       "    <tr>\n",
       "      <th>C</th>\n",
       "      <td>NaN</td>\n",
       "      <td>NaN</td>\n",
       "      <td>NaN</td>\n",
       "      <td>NaN</td>\n",
       "      <td>NaN</td>\n",
       "    </tr>\n",
       "    <tr>\n",
       "      <th>D</th>\n",
       "      <td>1.294261</td>\n",
       "      <td>-0.637421</td>\n",
       "      <td>-1.276617</td>\n",
       "      <td>0.605649</td>\n",
       "      <td>0.819089</td>\n",
       "    </tr>\n",
       "    <tr>\n",
       "      <th>E</th>\n",
       "      <td>0.519105</td>\n",
       "      <td>-1.998150</td>\n",
       "      <td>-0.103990</td>\n",
       "      <td>-0.157340</td>\n",
       "      <td>-0.598053</td>\n",
       "    </tr>\n",
       "    <tr>\n",
       "      <th>F</th>\n",
       "      <td>-0.895702</td>\n",
       "      <td>0.567519</td>\n",
       "      <td>-0.580411</td>\n",
       "      <td>0.883034</td>\n",
       "      <td>-0.248119</td>\n",
       "    </tr>\n",
       "  </tbody>\n",
       "</table>\n",
       "</div>"
      ],
      "text/plain": [
       "       col1      col2      col3      col4      col5\n",
       "A  0.847376  1.501425 -1.763767  0.394321 -0.233774\n",
       "B -2.372153  0.111424  0.041674  1.478901  0.933608\n",
       "C       NaN       NaN       NaN       NaN       NaN\n",
       "D  1.294261 -0.637421 -1.276617  0.605649  0.819089\n",
       "E  0.519105 -1.998150 -0.103990 -0.157340 -0.598053\n",
       "F -0.895702  0.567519 -0.580411  0.883034 -0.248119"
      ]
     },
     "execution_count": 13,
     "metadata": {},
     "output_type": "execute_result"
    }
   ],
   "source": [
    "dframe2 = dframe.reindex(['A','B','C','D','E','F'])\n",
    "\n",
    "dframe2"
   ]
  },
  {
   "cell_type": "code",
   "execution_count": 14,
   "metadata": {
    "collapsed": true
   },
   "outputs": [],
   "source": [
    "new_cols = ['col1','col2','col3','col4','col5','col6']"
   ]
  },
  {
   "cell_type": "code",
   "execution_count": 15,
   "metadata": {
    "collapsed": false
   },
   "outputs": [
    {
     "data": {
      "text/html": [
       "<div>\n",
       "<table border=\"1\" class=\"dataframe\">\n",
       "  <thead>\n",
       "    <tr style=\"text-align: right;\">\n",
       "      <th></th>\n",
       "      <th>col1</th>\n",
       "      <th>col2</th>\n",
       "      <th>col3</th>\n",
       "      <th>col4</th>\n",
       "      <th>col5</th>\n",
       "      <th>col6</th>\n",
       "    </tr>\n",
       "  </thead>\n",
       "  <tbody>\n",
       "    <tr>\n",
       "      <th>A</th>\n",
       "      <td>0.847376</td>\n",
       "      <td>1.501425</td>\n",
       "      <td>-1.763767</td>\n",
       "      <td>0.394321</td>\n",
       "      <td>-0.233774</td>\n",
       "      <td>NaN</td>\n",
       "    </tr>\n",
       "    <tr>\n",
       "      <th>B</th>\n",
       "      <td>-2.372153</td>\n",
       "      <td>0.111424</td>\n",
       "      <td>0.041674</td>\n",
       "      <td>1.478901</td>\n",
       "      <td>0.933608</td>\n",
       "      <td>NaN</td>\n",
       "    </tr>\n",
       "    <tr>\n",
       "      <th>C</th>\n",
       "      <td>NaN</td>\n",
       "      <td>NaN</td>\n",
       "      <td>NaN</td>\n",
       "      <td>NaN</td>\n",
       "      <td>NaN</td>\n",
       "      <td>NaN</td>\n",
       "    </tr>\n",
       "    <tr>\n",
       "      <th>D</th>\n",
       "      <td>1.294261</td>\n",
       "      <td>-0.637421</td>\n",
       "      <td>-1.276617</td>\n",
       "      <td>0.605649</td>\n",
       "      <td>0.819089</td>\n",
       "      <td>NaN</td>\n",
       "    </tr>\n",
       "    <tr>\n",
       "      <th>E</th>\n",
       "      <td>0.519105</td>\n",
       "      <td>-1.998150</td>\n",
       "      <td>-0.103990</td>\n",
       "      <td>-0.157340</td>\n",
       "      <td>-0.598053</td>\n",
       "      <td>NaN</td>\n",
       "    </tr>\n",
       "    <tr>\n",
       "      <th>F</th>\n",
       "      <td>-0.895702</td>\n",
       "      <td>0.567519</td>\n",
       "      <td>-0.580411</td>\n",
       "      <td>0.883034</td>\n",
       "      <td>-0.248119</td>\n",
       "      <td>NaN</td>\n",
       "    </tr>\n",
       "  </tbody>\n",
       "</table>\n",
       "</div>"
      ],
      "text/plain": [
       "       col1      col2      col3      col4      col5  col6\n",
       "A  0.847376  1.501425 -1.763767  0.394321 -0.233774   NaN\n",
       "B -2.372153  0.111424  0.041674  1.478901  0.933608   NaN\n",
       "C       NaN       NaN       NaN       NaN       NaN   NaN\n",
       "D  1.294261 -0.637421 -1.276617  0.605649  0.819089   NaN\n",
       "E  0.519105 -1.998150 -0.103990 -0.157340 -0.598053   NaN\n",
       "F -0.895702  0.567519 -0.580411  0.883034 -0.248119   NaN"
      ]
     },
     "execution_count": 15,
     "metadata": {},
     "output_type": "execute_result"
    }
   ],
   "source": [
    "dframe2.reindex(columns = new_cols)"
   ]
  },
  {
   "cell_type": "code",
   "execution_count": 16,
   "metadata": {
    "collapsed": false
   },
   "outputs": [
    {
     "data": {
      "text/html": [
       "<div>\n",
       "<table border=\"1\" class=\"dataframe\">\n",
       "  <thead>\n",
       "    <tr style=\"text-align: right;\">\n",
       "      <th></th>\n",
       "      <th>col1</th>\n",
       "      <th>col2</th>\n",
       "      <th>col3</th>\n",
       "      <th>col4</th>\n",
       "      <th>col5</th>\n",
       "    </tr>\n",
       "  </thead>\n",
       "  <tbody>\n",
       "    <tr>\n",
       "      <th>A</th>\n",
       "      <td>0.847376</td>\n",
       "      <td>1.501425</td>\n",
       "      <td>-1.763767</td>\n",
       "      <td>0.394321</td>\n",
       "      <td>-0.233774</td>\n",
       "    </tr>\n",
       "    <tr>\n",
       "      <th>B</th>\n",
       "      <td>-2.372153</td>\n",
       "      <td>0.111424</td>\n",
       "      <td>0.041674</td>\n",
       "      <td>1.478901</td>\n",
       "      <td>0.933608</td>\n",
       "    </tr>\n",
       "    <tr>\n",
       "      <th>D</th>\n",
       "      <td>1.294261</td>\n",
       "      <td>-0.637421</td>\n",
       "      <td>-1.276617</td>\n",
       "      <td>0.605649</td>\n",
       "      <td>0.819089</td>\n",
       "    </tr>\n",
       "    <tr>\n",
       "      <th>E</th>\n",
       "      <td>0.519105</td>\n",
       "      <td>-1.998150</td>\n",
       "      <td>-0.103990</td>\n",
       "      <td>-0.157340</td>\n",
       "      <td>-0.598053</td>\n",
       "    </tr>\n",
       "    <tr>\n",
       "      <th>F</th>\n",
       "      <td>-0.895702</td>\n",
       "      <td>0.567519</td>\n",
       "      <td>-0.580411</td>\n",
       "      <td>0.883034</td>\n",
       "      <td>-0.248119</td>\n",
       "    </tr>\n",
       "  </tbody>\n",
       "</table>\n",
       "</div>"
      ],
      "text/plain": [
       "       col1      col2      col3      col4      col5\n",
       "A  0.847376  1.501425 -1.763767  0.394321 -0.233774\n",
       "B -2.372153  0.111424  0.041674  1.478901  0.933608\n",
       "D  1.294261 -0.637421 -1.276617  0.605649  0.819089\n",
       "E  0.519105 -1.998150 -0.103990 -0.157340 -0.598053\n",
       "F -0.895702  0.567519 -0.580411  0.883034 -0.248119"
      ]
     },
     "execution_count": 16,
     "metadata": {},
     "output_type": "execute_result"
    }
   ],
   "source": [
    "dframe"
   ]
  },
  {
   "cell_type": "code",
   "execution_count": 17,
   "metadata": {
    "collapsed": false
   },
   "outputs": [
    {
     "data": {
      "text/html": [
       "<div>\n",
       "<table border=\"1\" class=\"dataframe\">\n",
       "  <thead>\n",
       "    <tr style=\"text-align: right;\">\n",
       "      <th></th>\n",
       "      <th>col1</th>\n",
       "      <th>col2</th>\n",
       "      <th>col3</th>\n",
       "      <th>col4</th>\n",
       "      <th>col5</th>\n",
       "      <th>col6</th>\n",
       "    </tr>\n",
       "  </thead>\n",
       "  <tbody>\n",
       "    <tr>\n",
       "      <th>A</th>\n",
       "      <td>0.847376</td>\n",
       "      <td>1.501425</td>\n",
       "      <td>-1.763767</td>\n",
       "      <td>0.394321</td>\n",
       "      <td>-0.233774</td>\n",
       "      <td>NaN</td>\n",
       "    </tr>\n",
       "    <tr>\n",
       "      <th>B</th>\n",
       "      <td>-2.372153</td>\n",
       "      <td>0.111424</td>\n",
       "      <td>0.041674</td>\n",
       "      <td>1.478901</td>\n",
       "      <td>0.933608</td>\n",
       "      <td>NaN</td>\n",
       "    </tr>\n",
       "    <tr>\n",
       "      <th>C</th>\n",
       "      <td>NaN</td>\n",
       "      <td>NaN</td>\n",
       "      <td>NaN</td>\n",
       "      <td>NaN</td>\n",
       "      <td>NaN</td>\n",
       "      <td>NaN</td>\n",
       "    </tr>\n",
       "    <tr>\n",
       "      <th>D</th>\n",
       "      <td>1.294261</td>\n",
       "      <td>-0.637421</td>\n",
       "      <td>-1.276617</td>\n",
       "      <td>0.605649</td>\n",
       "      <td>0.819089</td>\n",
       "      <td>NaN</td>\n",
       "    </tr>\n",
       "    <tr>\n",
       "      <th>E</th>\n",
       "      <td>0.519105</td>\n",
       "      <td>-1.998150</td>\n",
       "      <td>-0.103990</td>\n",
       "      <td>-0.157340</td>\n",
       "      <td>-0.598053</td>\n",
       "      <td>NaN</td>\n",
       "    </tr>\n",
       "    <tr>\n",
       "      <th>F</th>\n",
       "      <td>-0.895702</td>\n",
       "      <td>0.567519</td>\n",
       "      <td>-0.580411</td>\n",
       "      <td>0.883034</td>\n",
       "      <td>-0.248119</td>\n",
       "      <td>NaN</td>\n",
       "    </tr>\n",
       "  </tbody>\n",
       "</table>\n",
       "</div>"
      ],
      "text/plain": [
       "       col1      col2      col3      col4      col5  col6\n",
       "A  0.847376  1.501425 -1.763767  0.394321 -0.233774   NaN\n",
       "B -2.372153  0.111424  0.041674  1.478901  0.933608   NaN\n",
       "C       NaN       NaN       NaN       NaN       NaN   NaN\n",
       "D  1.294261 -0.637421 -1.276617  0.605649  0.819089   NaN\n",
       "E  0.519105 -1.998150 -0.103990 -0.157340 -0.598053   NaN\n",
       "F -0.895702  0.567519 -0.580411  0.883034 -0.248119   NaN"
      ]
     },
     "execution_count": 17,
     "metadata": {},
     "output_type": "execute_result"
    }
   ],
   "source": [
    "dframe.ix[['A','B','C','D','E','F'],new_cols]"
   ]
  },
  {
   "cell_type": "code",
   "execution_count": 18,
   "metadata": {
    "collapsed": false
   },
   "outputs": [
    {
     "data": {
      "text/html": [
       "<div>\n",
       "<table border=\"1\" class=\"dataframe\">\n",
       "  <thead>\n",
       "    <tr style=\"text-align: right;\">\n",
       "      <th></th>\n",
       "      <th>col1</th>\n",
       "      <th>col2</th>\n",
       "      <th>col3</th>\n",
       "      <th>col4</th>\n",
       "      <th>col5</th>\n",
       "    </tr>\n",
       "  </thead>\n",
       "  <tbody>\n",
       "    <tr>\n",
       "      <th>A</th>\n",
       "      <td>0.847376</td>\n",
       "      <td>1.501425</td>\n",
       "      <td>-1.763767</td>\n",
       "      <td>0.394321</td>\n",
       "      <td>-0.233774</td>\n",
       "    </tr>\n",
       "    <tr>\n",
       "      <th>B</th>\n",
       "      <td>-2.372153</td>\n",
       "      <td>0.111424</td>\n",
       "      <td>0.041674</td>\n",
       "      <td>1.478901</td>\n",
       "      <td>0.933608</td>\n",
       "    </tr>\n",
       "    <tr>\n",
       "      <th>D</th>\n",
       "      <td>1.294261</td>\n",
       "      <td>-0.637421</td>\n",
       "      <td>-1.276617</td>\n",
       "      <td>0.605649</td>\n",
       "      <td>0.819089</td>\n",
       "    </tr>\n",
       "    <tr>\n",
       "      <th>E</th>\n",
       "      <td>0.519105</td>\n",
       "      <td>-1.998150</td>\n",
       "      <td>-0.103990</td>\n",
       "      <td>-0.157340</td>\n",
       "      <td>-0.598053</td>\n",
       "    </tr>\n",
       "    <tr>\n",
       "      <th>F</th>\n",
       "      <td>-0.895702</td>\n",
       "      <td>0.567519</td>\n",
       "      <td>-0.580411</td>\n",
       "      <td>0.883034</td>\n",
       "      <td>-0.248119</td>\n",
       "    </tr>\n",
       "  </tbody>\n",
       "</table>\n",
       "</div>"
      ],
      "text/plain": [
       "       col1      col2      col3      col4      col5\n",
       "A  0.847376  1.501425 -1.763767  0.394321 -0.233774\n",
       "B -2.372153  0.111424  0.041674  1.478901  0.933608\n",
       "D  1.294261 -0.637421 -1.276617  0.605649  0.819089\n",
       "E  0.519105 -1.998150 -0.103990 -0.157340 -0.598053\n",
       "F -0.895702  0.567519 -0.580411  0.883034 -0.248119"
      ]
     },
     "execution_count": 18,
     "metadata": {},
     "output_type": "execute_result"
    }
   ],
   "source": [
    "dframe"
   ]
  },
  {
   "cell_type": "code",
   "execution_count": null,
   "metadata": {
    "collapsed": true
   },
   "outputs": [],
   "source": []
  }
 ],
 "metadata": {
  "kernelspec": {
   "display_name": "Python 2",
   "language": "python",
   "name": "python2"
  },
  "language_info": {
   "codemirror_mode": {
    "name": "ipython",
    "version": 2
   },
   "file_extension": ".py",
   "mimetype": "text/x-python",
   "name": "python",
   "nbconvert_exporter": "python",
   "pygments_lexer": "ipython2",
   "version": "2.7.11"
  }
 },
 "nbformat": 4,
 "nbformat_minor": 0
}
