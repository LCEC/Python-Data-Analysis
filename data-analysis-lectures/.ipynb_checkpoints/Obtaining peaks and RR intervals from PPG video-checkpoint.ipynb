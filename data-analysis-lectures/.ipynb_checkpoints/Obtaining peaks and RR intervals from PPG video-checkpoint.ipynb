{
 "cells": [
  {
   "cell_type": "code",
   "execution_count": 1,
   "metadata": {
    "collapsed": true
   },
   "outputs": [],
   "source": [
    "import cv2\n",
    "import numpy as np\n",
    "import pandas as pd"
   ]
  },
  {
   "cell_type": "code",
   "execution_count": 3,
   "metadata": {
    "collapsed": false
   },
   "outputs": [],
   "source": [
    "vid = cv2.VideoCapture(\"PPGsample1.mp4\")\n",
    "fps = vid.get(5)"
   ]
  },
  {
   "cell_type": "code",
   "execution_count": 4,
   "metadata": {
    "collapsed": true
   },
   "outputs": [],
   "source": [
    "def readFromFile(fileName):\n",
    "    colors =np.loadtxt(fileName)\n",
    "    return colors[0], colors[1], colors[2]"
   ]
  },
  {
   "cell_type": "code",
   "execution_count": 30,
   "metadata": {
    "collapsed": true
   },
   "outputs": [],
   "source": [
    "#will return a list of the indexes of the peaks\n",
    "def peakList(colorList, frameThreshold):\n",
    "    peaks = []\n",
    "    for i in range(1,len(colorList)-1):\n",
    "        #check to see if greater than immediate surroundings\n",
    "        if colorList[i-1] <  colorList[i]  and colorList[i+1] <  colorList[i]:\n",
    "            #if so, check every other frame in the threshold\n",
    "            for j in range(2, frameThreshold):\n",
    "                #check everything in threshold before - will break if not a peak\n",
    "                if i-j>0:\n",
    "                    if colorList[i]<colorList[i-j]:\n",
    "                        break\n",
    "                #check everything in threshold after\n",
    "                if i+j<len(colorList):\n",
    "                    if colorList[i]<colorList[i+j]:\n",
    "                        break\n",
    "            peaks.append(i)\n",
    "    return peaks"
   ]
  },
  {
   "cell_type": "code",
   "execution_count": 6,
   "metadata": {
    "collapsed": true
   },
   "outputs": [],
   "source": [
    "r,g,b = readFromFile(\"color-values-PPG1.txt\")"
   ]
  },
  {
   "cell_type": "code",
   "execution_count": 31,
   "metadata": {
    "collapsed": false
   },
   "outputs": [
    {
     "data": {
      "text/plain": [
       "[8,\n",
       " 38,\n",
       " 48,\n",
       " 65,\n",
       " 75,\n",
       " 91,\n",
       " 118,\n",
       " 146,\n",
       " 157,\n",
       " 172,\n",
       " 199,\n",
       " 228,\n",
       " 259,\n",
       " 270,\n",
       " 288,\n",
       " 298,\n",
       " 315,\n",
       " 326,\n",
       " 345,\n",
       " 375,\n",
       " 386,\n",
       " 405,\n",
       " 415,\n",
       " 432,\n",
       " 443,\n",
       " 460,\n",
       " 471,\n",
       " 490,\n",
       " 520,\n",
       " 530,\n",
       " 547,\n",
       " 556,\n",
       " 573,\n",
       " 602,\n",
       " 632,\n",
       " 663,\n",
       " 673,\n",
       " 690,\n",
       " 700,\n",
       " 719,\n",
       " 750,\n",
       " 761,\n",
       " 781,\n",
       " 791,\n",
       " 809,\n",
       " 820,\n",
       " 839,\n",
       " 845,\n",
       " 850,\n",
       " 869,\n",
       " 880,\n",
       " 897,\n",
       " 908]"
      ]
     },
     "execution_count": 31,
     "metadata": {},
     "output_type": "execute_result"
    }
   ],
   "source": [
    "peakList(r,12)"
   ]
  }
 ],
 "metadata": {
  "kernelspec": {
   "display_name": "Python 2",
   "language": "python",
   "name": "python2"
  },
  "language_info": {
   "codemirror_mode": {
    "name": "ipython",
    "version": 2
   },
   "file_extension": ".py",
   "mimetype": "text/x-python",
   "name": "python",
   "nbconvert_exporter": "python",
   "pygments_lexer": "ipython2",
   "version": "2.7.10"
  }
 },
 "nbformat": 4,
 "nbformat_minor": 0
}
