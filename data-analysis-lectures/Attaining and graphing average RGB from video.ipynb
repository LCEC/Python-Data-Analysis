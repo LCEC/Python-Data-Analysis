{
 "cells": [
  {
   "cell_type": "code",
   "execution_count": 4,
   "metadata": {
    "collapsed": false
   },
   "outputs": [],
   "source": [
    "import os\n",
    "import cv2\n",
    "import numpy as np\n",
    "import pandas as pd"
   ]
  },
  {
   "cell_type": "code",
   "execution_count": 5,
   "metadata": {
    "collapsed": false
   },
   "outputs": [
    {
     "name": "stdout",
     "output_type": "stream",
     "text": [
      "Video Width:  1920 px\n",
      "Video Height:  1080 px\n",
      "Video FPS:  30.323427803 frames per second\n",
      "Video Length:  30.1746888889 s\n"
     ]
    }
   ],
   "source": [
    "video = cv2.VideoCapture('PPGsample1.mp4')\n",
    "ret, frame = video.read()\n",
    "width = int(video.get(3))\n",
    "height = int(video.get(4))\n",
    "fps = video.get(5)\n",
    "length = int(video.get(7))/fps\n",
    "print 'Video Width: ', width, 'px'\n",
    "print 'Video Height: ', height, 'px'\n",
    "print 'Video FPS: ', fps, 'frames per second'\n",
    "print 'Video Length: ', length, 's'"
   ]
  },
  {
   "cell_type": "code",
   "execution_count": 9,
   "metadata": {
    "collapsed": true
   },
   "outputs": [],
   "source": [
    "def readFrame():\n",
    "    hasFrame, frame = video.read();\n",
    "    if not hasFrame:\n",
    "        return False, 0, 0, 0\n",
    "    totalRed = 0\n",
    "    totalGreen = 0\n",
    "    totalBlue = 0\n",
    "    for col in range(0, width):\n",
    "        # adds up all of the color values for each pixel in the frame\n",
    "        # returns average value per pixel\n",
    "        for row in range(0, height):\n",
    "            totalRed += frame[row][col][2]\n",
    "            totalGreen += frame[row][col][1]\n",
    "            totalBlue += frame[row][col][0]\n",
    "    return True, totalRed/1.0/width/height, totalGreen/1.0/width/height, totalBlue/1.0/width/height\n",
    "    "
   ]
  },
  {
   "cell_type": "code",
   "execution_count": 6,
   "metadata": {
    "collapsed": false
   },
   "outputs": [
    {
     "ename": "NameError",
     "evalue": "name 'readFrame' is not defined",
     "output_type": "error",
     "traceback": [
      "\u001b[1;31m---------------------------------------------------------------------------\u001b[0m",
      "\u001b[1;31mNameError\u001b[0m                                 Traceback (most recent call last)",
      "\u001b[1;32m<ipython-input-6-22e058ae7308>\u001b[0m in \u001b[0;36m<module>\u001b[1;34m()\u001b[0m\n\u001b[0;32m      4\u001b[0m \u001b[1;33m\u001b[0m\u001b[0m\n\u001b[0;32m      5\u001b[0m \u001b[1;32mwhile\u001b[0m \u001b[0mTrue\u001b[0m\u001b[1;33m:\u001b[0m\u001b[1;33m\u001b[0m\u001b[0m\n\u001b[1;32m----> 6\u001b[1;33m     \u001b[0mhasFrame\u001b[0m\u001b[1;33m,\u001b[0m \u001b[0mr\u001b[0m\u001b[1;33m,\u001b[0m \u001b[0mg\u001b[0m\u001b[1;33m,\u001b[0m \u001b[0mb\u001b[0m \u001b[1;33m=\u001b[0m \u001b[0mreadFrame\u001b[0m\u001b[1;33m(\u001b[0m\u001b[1;33m)\u001b[0m\u001b[1;33m\u001b[0m\u001b[0m\n\u001b[0m\u001b[0;32m      7\u001b[0m     \u001b[1;32mif\u001b[0m \u001b[1;32mnot\u001b[0m \u001b[0mhasFrame\u001b[0m\u001b[1;33m:\u001b[0m\u001b[1;33m\u001b[0m\u001b[0m\n\u001b[0;32m      8\u001b[0m         \u001b[1;32mbreak\u001b[0m\u001b[1;33m\u001b[0m\u001b[0m\n",
      "\u001b[1;31mNameError\u001b[0m: name 'readFrame' is not defined"
     ]
    }
   ],
   "source": [
    "redValues = []\n",
    "greenValues = []\n",
    "blueValues= []\n",
    "\n",
    "while True:\n",
    "    hasFrame, r, g, b = readFrame()\n",
    "    if not hasFrame:\n",
    "        break\n",
    "    else:\n",
    "        redValues.append(r)\n",
    "        greenValues.append(g)\n",
    "        blueValues.append(b)\n",
    "        print(r, g, b)"
   ]
  },
  {
   "cell_type": "code",
   "execution_count": null,
   "metadata": {
    "collapsed": false
   },
   "outputs": [],
   "source": [
    "#takes a long time to process video, so save to file\n",
    "def writeToFile(fileName, rL, gL, bL):\n",
    "    colors = [rL, gL, bL]\n",
    "    np.savetxt(fileName, colors)\n",
    "writeToFile('color-values-PPG1.txt', redValues, greenValues, blueValues)"
   ]
  },
  {
   "cell_type": "code",
   "execution_count": null,
   "metadata": {
    "collapsed": true
   },
   "outputs": [],
   "source": [
    "#get video from file, which is much faster than processing again\n",
    "def readFromFile(fileName):\n",
    "    l =np.loadtxt(fileName)\n",
    "    return l[0], l[1], l[2]\n",
    "redValues, greenValues, blueValues = readFromFile('color-values-PPG1.txt')"
   ]
  },
  {
   "cell_type": "code",
   "execution_count": null,
   "metadata": {
    "collapsed": true
   },
   "outputs": [],
   "source": [
    "def constructTimeList(numElements, deltaTime):\n",
    "    times = [0]\n",
    "    for i in range(1, numElements):\n",
    "        times.append(times[i-1]+deltaTime)\n",
    "    return times\n",
    "ppgTimes = constructTimeList(len(redValues), 1/fps)"
   ]
  },
  {
   "cell_type": "code",
   "execution_count": null,
   "metadata": {
    "collapsed": false
   },
   "outputs": [],
   "source": [
    "#Graphing the red values\n",
    "redSeries = pd.Series(redValues, index = ppgTimes)\n",
    "%matplotlib inline\n",
    "redSeries.plot(title = \"Red vs Time\")"
   ]
  },
  {
   "cell_type": "code",
   "execution_count": null,
   "metadata": {
    "collapsed": false
   },
   "outputs": [],
   "source": [
    "#Graphing the green values\n",
    "greenSeries = pd.Series(greenValues, index = ppgTimes)\n",
    "greenSeries.plot()"
   ]
  },
  {
   "cell_type": "code",
   "execution_count": null,
   "metadata": {
    "collapsed": false
   },
   "outputs": [],
   "source": [
    "#Graphing the blue values\n",
    "blueSeries = pd.Series(blueValues, index = ppgTimes)\n",
    "blueSeries.plot()"
   ]
  },
  {
   "cell_type": "code",
   "execution_count": null,
   "metadata": {
    "collapsed": false
   },
   "outputs": [],
   "source": [
    "#The second sample:\n",
    "video2 = cv2.VideoCapture(\"PPGsample2.mp4\")\n",
    "ret, frame = video.read()\n",
    "width = int(video.get(3))\n",
    "height = int(video.get(4))\n",
    "fps = video.get(5)\n",
    "length = int(video.get(7))/fps\n",
    "print 'Video Width: ', width, 'px'\n",
    "print 'Video Height: ', height, 'px'\n",
    "print 'Video FPS: ', fps, 'frames per second'\n",
    "print 'Video Length: ', length, 's'\n",
    "#Processing the video takes a lot of time,\n",
    "#so this is going to be from a text file of a pre-processed video\n",
    "redValues, greenValues, blueValues = readFromFile('color-values-PPG2.txt')\n",
    "ppg2Times = constructTimeList(len(redValues), 1/fps)\n"
   ]
  },
  {
   "cell_type": "code",
   "execution_count": null,
   "metadata": {
    "collapsed": false
   },
   "outputs": [],
   "source": [
    "#Red values for second sample\n",
    "redSeries = pd.Series(redValues,ppg2Times)\n",
    "redSeries.plot()"
   ]
  },
  {
   "cell_type": "code",
   "execution_count": null,
   "metadata": {
    "collapsed": false
   },
   "outputs": [],
   "source": [
    "#Green values for second sample\n",
    "greenSeries = pd.Series(greenValues,ppg2Times)\n",
    "greenSeries.plot()"
   ]
  },
  {
   "cell_type": "code",
   "execution_count": null,
   "metadata": {
    "collapsed": false
   },
   "outputs": [],
   "source": [
    "#Blue values for second sample\n",
    "blueSeries = pd.Series(blueValues,ppg2Times)\n",
    "blueSeries.plot()"
   ]
  }
 ],
 "metadata": {
  "kernelspec": {
   "display_name": "Python 2",
   "language": "python",
   "name": "python2"
  },
  "language_info": {
   "codemirror_mode": {
    "name": "ipython",
    "version": 2
   },
   "file_extension": ".py",
   "mimetype": "text/x-python",
   "name": "python",
   "nbconvert_exporter": "python",
   "pygments_lexer": "ipython2",
   "version": "2.7.10"
  }
 },
 "nbformat": 4,
 "nbformat_minor": 0
}
