{
 "cells": [
  {
   "cell_type": "code",
   "execution_count": 23,
   "metadata": {
    "collapsed": false
   },
   "outputs": [
    {
     "data": {
      "text/plain": [
       "(False, None)"
      ]
     },
     "execution_count": 23,
     "metadata": {},
     "output_type": "execute_result"
    }
   ],
   "source": [
    "import numpy as np\n",
    "import cv2\n",
    "\n",
    "cam = cv2.VideoCapture('PPGsample1.mp4')\n",
    "            \n",
    "while True:\n",
    "    ret, img = cam.read()                      \n",
    "    if (type(img) == type(None)):\n",
    "        break\n",
    "\n",
    "    cv2.imshow('detection', img)\n",
    "    print ret\n",
    "    if (0xFF & cv2.waitKey(5) == 27) or img.size == 0:\n",
    "        break\n",
    "        \n",
    "        "
   ]
  },
  {
   "cell_type": "code",
   "execution_count": 66,
   "metadata": {
    "collapsed": false
   },
   "outputs": [
    {
     "name": "stdout",
     "output_type": "stream",
     "text": [
      "Video Width:  0 px\n",
      "Video Height:  0 px\n",
      "False\n"
     ]
    }
   ],
   "source": [
    "import os\n",
    "import cv2\n",
    "import numpy as np\n",
    "video_name = 'PPGsample1.mp4'\n",
    "video = cv2.VideoCapture(video_name)\n",
    "ret, frame = video.read()\n",
    "width = int(video.get(3))\n",
    "height = int(video.get(4))\n",
    "print 'Video Width: ', width, 'px'\n",
    "print 'Video Height: ', height, 'px'\n",
    "print ret\n"
   ]
  }
 ],
 "metadata": {
  "kernelspec": {
   "display_name": "Python 2",
   "language": "python",
   "name": "python2"
  },
  "language_info": {
   "codemirror_mode": {
    "name": "ipython",
    "version": 2
   },
   "file_extension": ".py",
   "mimetype": "text/x-python",
   "name": "python",
   "nbconvert_exporter": "python",
   "pygments_lexer": "ipython2",
   "version": "2.7.11"
  }
 },
 "nbformat": 4,
 "nbformat_minor": 0
}
